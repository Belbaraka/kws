{
 "cells": [
  {
   "cell_type": "code",
   "execution_count": 80,
   "metadata": {},
   "outputs": [],
   "source": [
    "import os\n",
    "import json\n",
    "import IPython\n",
    "from scipy.io import wavfile"
   ]
  },
  {
   "cell_type": "code",
   "execution_count": 88,
   "metadata": {},
   "outputs": [],
   "source": [
    "def get_transcription(path2transcription):\n",
    "    transcription = []\n",
    "    offset = -1\n",
    "    end = 0\n",
    "    with open(path2transcription, 'rt') as f:\n",
    "        records = f.readlines()\n",
    "        for sentence in records:\n",
    "            fields = sentence.split()\n",
    "            label = fields[6:]\n",
    "            if not 'ignore_time_segment_in_scoring' in label:\n",
    "                if offset < 0:\n",
    "                    offset = float(fields[3])\n",
    "                transcription.extend(label)\n",
    "                end = float(fields[4])\n",
    "    transcription = \" \".join(transcription)\n",
    "    duration = end - offset\n",
    "    return offset, duration, transcription\n",
    "\n",
    "def get_offset(path2transcription):\n",
    "    \n",
    "    with open(path2transcription, 'rt') as f:\n",
    "        records = f.readlines()\n",
    "        for sentence in records:\n",
    "            fields = sentence.split()\n",
    "            label = fields[6:]\n",
    "            if not 'ignore_time_segment_in_scoring' in label:\n",
    "                return float(fields[3])\n",
    "    return "
   ]
  },
  {
   "cell_type": "code",
   "execution_count": 48,
   "metadata": {},
   "outputs": [],
   "source": [
    "offset, duration, transcription = get_transcription('/aimlx/Datasets/TEDLIUM_release1/dev/stm/BlaiseAguerayArcas_2007.stm')"
   ]
  },
  {
   "cell_type": "code",
   "execution_count": 49,
   "metadata": {},
   "outputs": [
    {
     "data": {
      "text/plain": [
       "12.2"
      ]
     },
     "execution_count": 49,
     "metadata": {},
     "output_type": "execute_result"
    }
   ],
   "source": [
    "offset"
   ]
  },
  {
   "cell_type": "code",
   "execution_count": 19,
   "metadata": {},
   "outputs": [
    {
     "data": {
      "text/plain": [
       "1156.81"
      ]
     },
     "execution_count": 19,
     "metadata": {},
     "output_type": "execute_result"
    }
   ],
   "source": [
    "duration"
   ]
  },
  {
   "cell_type": "code",
   "execution_count": 21,
   "metadata": {},
   "outputs": [
    {
     "data": {
      "text/plain": [
       "'/aimlx/kws/kws_db_creation'"
      ]
     },
     "execution_count": 21,
     "metadata": {},
     "output_type": "execute_result"
    }
   ],
   "source": [
    "pwd"
   ]
  },
  {
   "cell_type": "code",
   "execution_count": 75,
   "metadata": {},
   "outputs": [],
   "source": [
    "path = '/aimlx/Datasets/TEDLIUM_release1/dev/json/BlaiseAguerayArcas_2007.json'  \n",
    "def analyze_jsons():\n",
    "    with open('/aimlx/Datasets/TEDLIUM_release1/dev/json/BlaiseAguerayArcas_2007.json') as json_file:\n",
    "        data = json.load(json_file)\n",
    "        nb_words = len(data['words'])\n",
    "        nb_aligned = 0\n",
    "        unaligned_words = []\n",
    "        for word in data['words']:\n",
    "            if word['case'] == 'success':\n",
    "                if word['word'] == 'computationally':\n",
    "                    print(word['start'], word['end'])\n",
    "                nb_aligned += 1\n",
    "            if word['case'] != 'success':\n",
    "                unaligned_words.append(word['word'])\n",
    "        print('Percentage of aligned words', 100*(nb_aligned/nb_words))\n",
    "        print('Unaligned words : ', unaligned_words)"
   ]
  },
  {
   "cell_type": "code",
   "execution_count": 76,
   "metadata": {},
   "outputs": [
    {
     "name": "stdout",
     "output_type": "stream",
     "text": [
      "225.09 225.85\n",
      "Percentage of aligned words 94.885598923284\n",
      "Unaligned words :  ['what', 'i', \"'m\", 'going', \"'s\", 'an', 'kind', \"'t\", 'it', \"'s\", 'in', 'the', 'doesn', 'you', 'that', 'it', \"'s\", 'that', 'it', \"'s\", \"'t\", \"'s\", 'you', 'want', \"'t\", 'now', 'a', 'graduate', 'student', 'at', 'kind', 'the', 'we', 'they', \"'ve\", 'and', 'know', 'it', \"'s\", 'very', 'it', \"'s\", 'to', 'this', 'kind', 'is', 'this', 'is', 'in', 'many', 'of', 'them', 'are', 'occluded', 'by', 'faces', 'and', 'and', 'so', 'of', 'of', 'of', 'do', 'i', 'do', 'i', 'understand', 'what', 'that', 'and', 'it', 'and', 'and', 'that', 'so', 'much']\n"
     ]
    }
   ],
   "source": [
    "analyze_jsons()"
   ]
  },
  {
   "cell_type": "code",
   "execution_count": 39,
   "metadata": {},
   "outputs": [],
   "source": []
  },
  {
   "cell_type": "code",
   "execution_count": 77,
   "metadata": {},
   "outputs": [],
   "source": [
    "fs, signal = wavfile.read(path.replace('json', 'wav'))\n",
    "start = int(fs * (225.09 + offset))\n",
    "end = int(fs * (225.85 + offset))\n",
    "microsoft = signal[start:end]"
   ]
  },
  {
   "cell_type": "code",
   "execution_count": 78,
   "metadata": {},
   "outputs": [
    {
     "data": {
      "text/html": [
       "\n",
       "                <audio  controls=\"controls\" >\n",
       "                    <source src=\"data:audio/wav;base64,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\" type=\"audio/wav\" />\n",
       "                    Your browser does not support the audio element.\n",
       "                </audio>\n",
       "              "
      ],
      "text/plain": [
       "<IPython.lib.display.Audio object>"
      ]
     },
     "execution_count": 78,
     "metadata": {},
     "output_type": "execute_result"
    }
   ],
   "source": [
    "IPython.display.Audio(microsoft, rate=fs)"
   ]
  },
  {
   "cell_type": "code",
   "execution_count": 50,
   "metadata": {},
   "outputs": [
    {
     "data": {
      "text/plain": [
       "12.2"
      ]
     },
     "execution_count": 50,
     "metadata": {},
     "output_type": "execute_result"
    }
   ],
   "source": [
    "offset"
   ]
  },
  {
   "cell_type": "code",
   "execution_count": 52,
   "metadata": {},
   "outputs": [
    {
     "data": {
      "text/plain": [
       "115372.2"
      ]
     },
     "execution_count": 52,
     "metadata": {},
     "output_type": "execute_result"
    }
   ],
   "source": [
    "start"
   ]
  },
  {
   "cell_type": "code",
   "execution_count": 97,
   "metadata": {},
   "outputs": [],
   "source": [
    "def build_keyword_database(keywords, path2jsons, path2kw_db):\n",
    "    for \n",
    "\n",
    "\n",
    "def extract_kw(keyword, path2jsons, path2kw_db):\n",
    "    \n",
    "    if not os.path.exists(os.path.join(path2kw_db, keyword)):\n",
    "        os.mkdir(os.path.join(path2kw_db, keyword))\n",
    "        \n",
    "    for path in path2jsons:\n",
    "        with open(path) as json_file:\n",
    "            data = json.load(json_file)\n",
    "            count = 0\n",
    "            for word in data['words']:\n",
    "                if word['word'] == keyword and word['case'] == 'success':\n",
    "                    start, end = word['start'], word['end']\n",
    "                    offset = get_offset(path2transcription=path.replace('json', 'stm'))\n",
    "                    fs, signal = wavfile.read(path.replace('json', 'wav'))\n",
    "                    start, end = int(fs * (start + offset)), int(fs * (end + offset))\n",
    "                    filename = path.split('/')[-1].split('.')[0] + '_' + str(count) + '.wav'\n",
    "                    wavfile.write(os.path.join(path2kw_db, keyword, filename), data=signal[start:end], rate=fs)\n",
    "                    count += 1 \n",
    "                    \n",
    "def get_jsons(path='/aimlx/Datasets/TEDLIUM_release1/dev/json'):\n",
    "    \n",
    "    path2jsons = []\n",
    "    for _, _, files in os.walk(path):\n",
    "        for file in files:\n",
    "            if file.endswith('.json') and 'checkpoint' not in file:\n",
    "                path2jsons.append(os.path.join(path, file))    \n",
    "                \n",
    "    return path2jsons"
   ]
  },
  {
   "cell_type": "code",
   "execution_count": 98,
   "metadata": {},
   "outputs": [],
   "source": [
    "path2jsons = get_jsons(path='/aimlx/Datasets/TEDLIUM_release1/dev/json')"
   ]
  },
  {
   "cell_type": "code",
   "execution_count": 99,
   "metadata": {},
   "outputs": [],
   "source": [
    "extract_kw(keyword='people', path2jsons=path2jsons, path2kw_db='/aimlx/Datasets/TEDLIUM_release1/kw_db')"
   ]
  },
  {
   "cell_type": "code",
   "execution_count": null,
   "metadata": {},
   "outputs": [],
   "source": []
  }
 ],
 "metadata": {
  "kernelspec": {
   "display_name": "Python 3",
   "language": "python",
   "name": "python3"
  },
  "language_info": {
   "codemirror_mode": {
    "name": "ipython",
    "version": 3
   },
   "file_extension": ".py",
   "mimetype": "text/x-python",
   "name": "python",
   "nbconvert_exporter": "python",
   "pygments_lexer": "ipython3",
   "version": "3.5.2"
  }
 },
 "nbformat": 4,
 "nbformat_minor": 2
}
