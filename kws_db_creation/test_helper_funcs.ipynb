{
 "cells": [
  {
   "cell_type": "code",
   "execution_count": 54,
   "metadata": {},
   "outputs": [],
   "source": [
    "import os\n",
    "import json\n",
    "import IPython\n",
    "from scipy.io import wavfile\n",
    "import multiprocessing\n",
    "import pandas as pd\n",
    "from tqdm import tqdm\n",
    "import operator"
   ]
  },
  {
   "cell_type": "code",
   "execution_count": 3,
   "metadata": {},
   "outputs": [],
   "source": [
    "def get_transcription(path2transcription):\n",
    "    transcription = []\n",
    "    offset = -1\n",
    "    end = 0\n",
    "    with open(path2transcription, 'rt') as f:\n",
    "        records = f.readlines()\n",
    "        for sentence in records:\n",
    "            fields = sentence.split()\n",
    "            label = fields[6:]\n",
    "            if not 'ignore_time_segment_in_scoring' in label:\n",
    "                if offset < 0:\n",
    "                    offset = float(fields[3])\n",
    "                transcription.extend(label)\n",
    "                end = float(fields[4])\n",
    "    transcription = \" \".join(transcription)\n",
    "    duration = end - offset\n",
    "    return offset, duration, transcription\n",
    "\n",
    "def get_offset(path2transcription):\n",
    "    \n",
    "    with open(path2transcription, 'rt') as f:\n",
    "        records = f.readlines()\n",
    "        for sentence in records:\n",
    "            fields = sentence.split()\n",
    "            label = fields[6:]\n",
    "            if not 'ignore_time_segment_in_scoring' in label:\n",
    "                return float(fields[3])\n",
    "    return "
   ]
  },
  {
   "cell_type": "code",
   "execution_count": 27,
   "metadata": {},
   "outputs": [],
   "source": [
    "def get_transcription_train(path2transcription):\n",
    "    sentences = []\n",
    "    with open(path2transcription, 'rt') as f:\n",
    "        records = f.readlines()\n",
    "        for record in records:\n",
    "            fields = record.split()\n",
    "            label = fields[6:-1]\n",
    "            start, end = float(fields[3]), float(fields[4])\n",
    "            label = [word[:-3] if word.endswith(')') else word for word in label]\n",
    "            label = \" \".join(label)\n",
    "            \n",
    "            sentences.append((start, end, label))\n",
    "    sentences = sorted(sentences, key=lambda x: x[0])\n",
    "    return sentences\n",
    "\n",
    "def get_offset_train(path2transcription):\n",
    "    offsets = []\n",
    "    with open(path2transcription, 'rt') as f:\n",
    "        records = f.readlines()\n",
    "        for record in records:\n",
    "            fields = record.split()\n",
    "            offsets.append(float(fields[3]))\n",
    "            \n",
    "    return min(offsets)"
   ]
  },
  {
   "cell_type": "code",
   "execution_count": 20,
   "metadata": {},
   "outputs": [],
   "source": [
    "sentences = get_transcription_train('/aimlx/Datasets/TEDLIUM_release1/train/stm/JessaGamble_2010GU.stm')\n"
   ]
  },
  {
   "cell_type": "code",
   "execution_count": 22,
   "metadata": {},
   "outputs": [],
   "source": [
    "l = []\n",
    "l.extend([5]*3)\n"
   ]
  },
  {
   "cell_type": "code",
   "execution_count": 28,
   "metadata": {},
   "outputs": [],
   "source": [
    "off = get_offset_train('/aimlx/Datasets/TEDLIUM_release1/train/stm/JehaneNoujaim_2006.stm')\n",
    "\n"
   ]
  },
  {
   "cell_type": "code",
   "execution_count": 29,
   "metadata": {},
   "outputs": [
    {
     "data": {
      "text/plain": [
       "16.69"
      ]
     },
     "execution_count": 29,
     "metadata": {},
     "output_type": "execute_result"
    }
   ],
   "source": [
    "off\n"
   ]
  },
  {
   "cell_type": "code",
   "execution_count": 9,
   "metadata": {},
   "outputs": [],
   "source": [
    "fs, signal = wavfile.read('/aimlx/Datasets/TEDLIUM_release1/train/wav/SheenaIyengar_2010G.wav')\n",
    "start = int(fs * 513.11)\n",
    "end = int(fs * 513.46)"
   ]
  },
  {
   "cell_type": "code",
   "execution_count": 10,
   "metadata": {},
   "outputs": [
    {
     "data": {
      "text/html": [
       "\n",
       "                <audio  controls=\"controls\" >\n",
       "                    <source src=\"data:audio/wav;base64,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\" type=\"audio/wav\" />\n",
       "                    Your browser does not support the audio element.\n",
       "                </audio>\n",
       "              "
      ],
      "text/plain": [
       "<IPython.lib.display.Audio object>"
      ]
     },
     "execution_count": 10,
     "metadata": {},
     "output_type": "execute_result"
    }
   ],
   "source": [
    "IPython.display.Audio(signal[start:end], rate=fs)"
   ]
  },
  {
   "cell_type": "code",
   "execution_count": 5,
   "metadata": {},
   "outputs": [
    {
     "data": {
      "text/plain": [
       "'/aimlx/kws/kws_db_creation'"
      ]
     },
     "execution_count": 5,
     "metadata": {},
     "output_type": "execute_result"
    }
   ],
   "source": [
    "pwd"
   ]
  },
  {
   "cell_type": "code",
   "execution_count": 75,
   "metadata": {},
   "outputs": [],
   "source": [
    "path = '/aimlx/Datasets/TEDLIUM_release1/dev/json/BlaiseAguerayArcas_2007.json'  \n",
    "def analyze_jsons():\n",
    "    with open('/aimlx/Datasets/TEDLIUM_release1/dev/json/BlaiseAguerayArcas_2007.json') as json_file:\n",
    "        data = json.load(json_file)\n",
    "        nb_words = len(data['words'])\n",
    "        nb_aligned = 0\n",
    "        unaligned_words = []\n",
    "        for word in data['words']:\n",
    "            if word['case'] == 'success':\n",
    "                if word['word'] == 'computationally':\n",
    "                    print(word['start'], word['end'])\n",
    "                nb_aligned += 1\n",
    "            if word['case'] != 'success':\n",
    "                unaligned_words.append(word['word'])\n",
    "        print('Percentage of aligned words', 100*(nb_aligned/nb_words))\n",
    "        print('Unaligned words : ', unaligned_words)"
   ]
  },
  {
   "cell_type": "code",
   "execution_count": 17,
   "metadata": {},
   "outputs": [],
   "source": [
    "fs, signal = wavfile.read('/aimlx/Datasets/TEDLIUM_release1/train/wav/AaronHuey_2010X.wav')\n",
    "#start = int(fs * (225.09 + offset))\n",
    "#end = int(fs * (225.85 + offset))\n",
    "#microsoft = signal[start:end]"
   ]
  },
  {
   "cell_type": "code",
   "execution_count": 76,
   "metadata": {},
   "outputs": [
    {
     "name": "stdout",
     "output_type": "stream",
     "text": [
      "225.09 225.85\n",
      "Percentage of aligned words 94.885598923284\n",
      "Unaligned words :  ['what', 'i', \"'m\", 'going', \"'s\", 'an', 'kind', \"'t\", 'it', \"'s\", 'in', 'the', 'doesn', 'you', 'that', 'it', \"'s\", 'that', 'it', \"'s\", \"'t\", \"'s\", 'you', 'want', \"'t\", 'now', 'a', 'graduate', 'student', 'at', 'kind', 'the', 'we', 'they', \"'ve\", 'and', 'know', 'it', \"'s\", 'very', 'it', \"'s\", 'to', 'this', 'kind', 'is', 'this', 'is', 'in', 'many', 'of', 'them', 'are', 'occluded', 'by', 'faces', 'and', 'and', 'so', 'of', 'of', 'of', 'do', 'i', 'do', 'i', 'understand', 'what', 'that', 'and', 'it', 'and', 'and', 'that', 'so', 'much']\n"
     ]
    }
   ],
   "source": [
    "analyze_jsons()"
   ]
  },
  {
   "cell_type": "code",
   "execution_count": 39,
   "metadata": {},
   "outputs": [],
   "source": []
  },
  {
   "cell_type": "code",
   "execution_count": 50,
   "metadata": {},
   "outputs": [
    {
     "data": {
      "text/plain": [
       "12.2"
      ]
     },
     "execution_count": 50,
     "metadata": {},
     "output_type": "execute_result"
    }
   ],
   "source": [
    "offset"
   ]
  },
  {
   "cell_type": "code",
   "execution_count": 52,
   "metadata": {},
   "outputs": [
    {
     "data": {
      "text/plain": [
       "115372.2"
      ]
     },
     "execution_count": 52,
     "metadata": {},
     "output_type": "execute_result"
    }
   ],
   "source": [
    "start"
   ]
  },
  {
   "cell_type": "code",
   "execution_count": 19,
   "metadata": {},
   "outputs": [],
   "source": [
    "def build_keyword_database(keywords, path2jsons, path2kw_db):\n",
    "    return\n",
    "\n",
    "\n",
    "def extract_kw(keyword, path2jsons, path2kw_db):\n",
    "    \n",
    "    if not os.path.exists(os.path.join(path2kw_db, keyword)):\n",
    "        os.mkdir(os.path.join(path2kw_db, keyword))\n",
    "        \n",
    "    for path in path2jsons:\n",
    "        with open(path) as json_file:\n",
    "            data = json.load(json_file)\n",
    "            count = 0\n",
    "            for word in data['words']:\n",
    "                if word['word'] == keyword and word['case'] == 'success':\n",
    "                    start, end = word['start'], word['end']\n",
    "                    offset = get_offset(path2transcription=path.replace('json', 'stm'))\n",
    "                    fs, signal = wavfile.read(path.replace('json', 'wav'))\n",
    "                    start, end = int(fs * (start + offset)), int(fs * (end + offset))\n",
    "                    filename = path.split('/')[-1].split('.')[0] + '_' + str(count) + '.wav'\n",
    "                    wavfile.write(os.path.join(path2kw_db, keyword, filename), data=signal[start:end], rate=fs)\n",
    "                    count += 1 \n",
    "                    \n",
    "def get_jsons(path='/aimlx/Datasets/TEDLIUM_release1/dev/json'):\n",
    "    \n",
    "    path2jsons = []\n",
    "    for _, _, files in os.walk(path):\n",
    "        for file in files:\n",
    "            if file.endswith('.json') and 'checkpoint' not in file:\n",
    "                path2jsons.append(os.path.join(path, file))    \n",
    "                \n",
    "    return path2jsons"
   ]
  },
  {
   "cell_type": "code",
   "execution_count": 20,
   "metadata": {},
   "outputs": [],
   "source": [
    "path2jsons_dev = get_jsons(path='/aimlx/Datasets/TEDLIUM_release1/dev/json')"
   ]
  },
  {
   "cell_type": "code",
   "execution_count": 99,
   "metadata": {},
   "outputs": [],
   "source": [
    "extract_kw(keyword='people', path2jsons=path2jsons, path2kw_db='/aimlx/Datasets/TEDLIUM_release1/kw_db')"
   ]
  },
  {
   "cell_type": "code",
   "execution_count": 33,
   "metadata": {},
   "outputs": [],
   "source": [
    "from collections import Counter\n",
    "\n",
    "def word_count(path2json, output):\n",
    "    word_count = Counter({})\n",
    "    for path in tqdm(path2json):\n",
    "        with open(path) as json_file:\n",
    "            data = json.load(json_file)\n",
    "            word_dict = dict(pd.Series(data['transcript'].split()).value_counts())\n",
    "            word_dict = {k: float(v) for k, v in word_dict.items()}\n",
    "            word_count = word_count + Counter(word_dict)\n",
    "    \n",
    "    word_count = dict(word_count)\n",
    "    with open(output, 'w') as fp:\n",
    "        json.dump(word_count, fp)"
   ]
  },
  {
   "cell_type": "code",
   "execution_count": 34,
   "metadata": {},
   "outputs": [
    {
     "name": "stderr",
     "output_type": "stream",
     "text": [
      "100%|██████████| 8/8 [00:00<00:00, 24.31it/s]\n"
     ]
    }
   ],
   "source": [
    "word_count(path2jsons_dev, '/aimlx/Datasets/TEDLIUM_release1/dev/dev_word_count.json')"
   ]
  },
  {
   "cell_type": "code",
   "execution_count": 35,
   "metadata": {},
   "outputs": [
    {
     "ename": "TypeError",
     "evalue": "word_count() missing 1 required positional argument: 'output'",
     "output_type": "error",
     "traceback": [
      "\u001b[0;31m---------------------------------------------------------------------------\u001b[0m",
      "\u001b[0;31mTypeError\u001b[0m                                 Traceback (most recent call last)",
      "\u001b[0;32m<ipython-input-35-bb5e88c1ae0e>\u001b[0m in \u001b[0;36m<module>\u001b[0;34m\u001b[0m\n\u001b[0;32m----> 1\u001b[0;31m \u001b[0m_\u001b[0m \u001b[0;34m=\u001b[0m \u001b[0mword_count\u001b[0m\u001b[0;34m(\u001b[0m\u001b[0;34m'/aimlx/Datasets/TEDLIUM_release1/dev/json/BlaiseAguerayArcas_2007.json'\u001b[0m\u001b[0;34m)\u001b[0m\u001b[0;34m\u001b[0m\u001b[0m\n\u001b[0m",
      "\u001b[0;31mTypeError\u001b[0m: word_count() missing 1 required positional argument: 'output'"
     ]
    }
   ],
   "source": [
    "_ = word_count('/aimlx/Datasets/TEDLIUM_release1/dev/json/BlaiseAguerayArcas_2007.json')"
   ]
  },
  {
   "cell_type": "code",
   "execution_count": 36,
   "metadata": {},
   "outputs": [],
   "source": [
    "_ = dict(df.value_counts())"
   ]
  },
  {
   "cell_type": "code",
   "execution_count": 37,
   "metadata": {},
   "outputs": [
    {
     "data": {
      "text/plain": [
       "'/aimlx/kws/kws_db_creation'"
      ]
     },
     "execution_count": 37,
     "metadata": {},
     "output_type": "execute_result"
    }
   ],
   "source": [
    "os.getcwd()"
   ]
  },
  {
   "cell_type": "code",
   "execution_count": 55,
   "metadata": {},
   "outputs": [],
   "source": [
    "with open(os.path.join(os.getcwd(), 'overall_word_count.json' )) as json_file:\n",
    "    data = json.load(json_file)"
   ]
  },
  {
   "cell_type": "code",
   "execution_count": 56,
   "metadata": {},
   "outputs": [],
   "source": [
    "data = sorted(data.items(), key=operator.itemgetter(1), reverse=True)"
   ]
  },
  {
   "cell_type": "code",
   "execution_count": 57,
   "metadata": {},
   "outputs": [],
   "source": [
    "filtered = list(filter(lambda x: x[1]<=150, data))"
   ]
  },
  {
   "cell_type": "code",
   "execution_count": 58,
   "metadata": {},
   "outputs": [],
   "source": [
    "with open(\"word_count.txt\", 'w') as f:\n",
    "    for s in filtered:\n",
    "        f.write(str(s) + '\\n')"
   ]
  },
  {
   "cell_type": "code",
   "execution_count": null,
   "metadata": {},
   "outputs": [],
   "source": []
  }
 ],
 "metadata": {
  "kernelspec": {
   "display_name": "Python 3",
   "language": "python",
   "name": "python3"
  },
  "language_info": {
   "codemirror_mode": {
    "name": "ipython",
    "version": 3
   },
   "file_extension": ".py",
   "mimetype": "text/x-python",
   "name": "python",
   "nbconvert_exporter": "python",
   "pygments_lexer": "ipython3",
   "version": "3.5.2"
  }
 },
 "nbformat": 4,
 "nbformat_minor": 2
}
