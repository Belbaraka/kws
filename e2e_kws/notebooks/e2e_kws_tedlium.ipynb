{
 "cells": [
  {
   "cell_type": "code",
   "execution_count": 1,
   "metadata": {},
   "outputs": [],
   "source": [
    "import os, sys, re\n",
    "import numpy as np\n",
    "import pandas as pd\n",
    "import hashlib\n",
    "import random\n",
    "import math\n",
    "import json\n",
    "from random import sample\n",
    "from tqdm import tqdm\n",
    "import IPython\n",
    "from python_speech_features import mfcc\n",
    "import scipy.io.wavfile as wav\n",
    "import matplotlib.pyplot as plt"
   ]
  },
  {
   "cell_type": "markdown",
   "metadata": {},
   "source": [
    "### Prepare data and compute features"
   ]
  },
  {
   "cell_type": "code",
   "execution_count": 2,
   "metadata": {},
   "outputs": [],
   "source": [
    "words_1000 = [] \n",
    "with open('1000-midlong', 'r') as thousend_words:\n",
    "    for word in thousend_words:\n",
    "        words_1000.append(word.strip())"
   ]
  },
  {
   "cell_type": "code",
   "execution_count": 38,
   "metadata": {},
   "outputs": [],
   "source": [
    "#keywords = ['percent', 'world', 'today', 'people', 'last', 'another', 'change', 'should', 'sort', 'find', 'after', 'fact']\n",
    "keywords = ['people', 'because', 'think', 'world'] #set 1\n",
    "#keywords = ['something', 'different', 'actually', 'important'] #set 2\n",
    "#keywords = ['another', 'percent', 'problem', 'technology'] #set 3\n",
    "#keywords = ['information', 'experience', 'government', 'computer'] \n",
    "#keywords = ['years', 'little', 'through', 'together'] # set 4"
   ]
  },
  {
   "cell_type": "code",
   "execution_count": 4,
   "metadata": {},
   "outputs": [],
   "source": [
    "possible_non_keywords = list(set(words_1000) - set(keywords))"
   ]
  },
  {
   "cell_type": "markdown",
   "metadata": {},
   "source": [
    "For the non keywords, we sample randomly 600 words from the database."
   ]
  },
  {
   "cell_type": "code",
   "execution_count": 5,
   "metadata": {},
   "outputs": [],
   "source": [
    "non_keywords = sample(possible_non_keywords, k=600)"
   ]
  },
  {
   "cell_type": "markdown",
   "metadata": {},
   "source": [
    "Select TED talks on which we will test our models"
   ]
  },
  {
   "cell_type": "code",
   "execution_count": 11,
   "metadata": {},
   "outputs": [],
   "source": [
    "def get_test_ted_talks(path2_ted_speakers='\"../../Datasets/TEDLIUM_release-3/data/json/', nb_ted_talks=100):  \n",
    "    ted_speakers = [name for name in os.listdir(path2_ted_speakers) if not name.startswith('.') and os.path.isdir(os.path.join(path2_ted_speakers, name))]\n",
    "    test_ted_talks = sample(ted_speakers, k=nb_ted_talks)\n",
    "    return test_ted_talks "
   ]
  },
  {
   "cell_type": "code",
   "execution_count": 4,
   "metadata": {},
   "outputs": [],
   "source": [
    "#test_ted_talks = get_test_ted_talks(path2_ted_speakers='/aimlx/Datasets/TEDLIUM_release-3/data/json/', nb_ted_talks=50)\n",
    "test_ted_talks = np.load('test_ted_talks_50.npy', allow_pickle=True)"
   ]
  },
  {
   "cell_type": "code",
   "execution_count": 7,
   "metadata": {},
   "outputs": [],
   "source": [
    "path = os.path.abspath(\"/aimlx/Datasets/TEDLIUM_release-3/data/1000_kws_db\")\n",
    "filenames = []\n",
    "\n",
    "for w in keywords + non_keywords:\n",
    "    current_path = os.path.join(path, w[0], w) \n",
    "    for _, _, files in os.walk(current_path):\n",
    "        for file in files:\n",
    "            if all(test_ted_talk not in file for test_ted_talk in test_ted_talks):\n",
    "                filenames.append(os.path.join(current_path, file))"
   ]
  },
  {
   "cell_type": "markdown",
   "metadata": {},
   "source": [
    "We load the **1 second long** *.wav* file which contains the keyword surrounded with context and compute **40 MFCC features**. "
   ]
  },
  {
   "cell_type": "code",
   "execution_count": 5,
   "metadata": {},
   "outputs": [],
   "source": [
    "num_features = 40\n",
    "xdim = 98"
   ]
  },
  {
   "cell_type": "code",
   "execution_count": 9,
   "metadata": {},
   "outputs": [],
   "source": [
    "from preprocessing import compute_mfcc"
   ]
  },
  {
   "cell_type": "code",
   "execution_count": 10,
   "metadata": {},
   "outputs": [],
   "source": [
    "fs, sig = wav.read(filenames[10])\n",
    "xdim, _ = compute_mfcc(sig, fs, threshold=1.0, is_kw=True, num_features=40, add_noise=False)[0].shape"
   ]
  },
  {
   "cell_type": "markdown",
   "metadata": {},
   "source": [
    "**We use a hashing function to perform the split**"
   ]
  },
  {
   "cell_type": "code",
   "execution_count": 12,
   "metadata": {},
   "outputs": [],
   "source": [
    "kw = filenames[0].split('/')[-2]\n",
    "base_name = kw + '-' + os.path.basename(filenames[0]).replace('_', '-', 1)\n",
    "hash_name = re.sub(r'_.*$', '', base_name).encode('utf-8')"
   ]
  },
  {
   "cell_type": "code",
   "execution_count": 13,
   "metadata": {},
   "outputs": [
    {
     "data": {
      "text/plain": [
       "b'people-DavidBlaine-2009P'"
      ]
     },
     "execution_count": 13,
     "metadata": {},
     "output_type": "execute_result"
    }
   ],
   "source": [
    "hash_name"
   ]
  },
  {
   "cell_type": "markdown",
   "metadata": {},
   "source": [
    "**Split and compute features for the training, testing and validation sets**"
   ]
  },
  {
   "cell_type": "code",
   "execution_count": 14,
   "metadata": {},
   "outputs": [
    {
     "name": "stderr",
     "output_type": "stream",
     "text": [
      "100%|██████████| 877713/877713 [53:41<00:00, 272.47it/s]\n"
     ]
    }
   ],
   "source": [
    "from preprocessing import generate_sets\n",
    "\n",
    "training, validation, testing = generate_sets(filenames, keywords, frame_size=1.0, n_mfcc=40, validation_percentage=15, \n",
    "                                              testing_percentage=5, add_noise=True, manipulate_pitch=True, add_volume=True)"
   ]
  },
  {
   "cell_type": "markdown",
   "metadata": {},
   "source": [
    "**Shape features in correct format or models to train on**"
   ]
  },
  {
   "cell_type": "code",
   "execution_count": 16,
   "metadata": {},
   "outputs": [],
   "source": [
    "from preprocessing import get_X_y\n",
    "from keras.utils import to_categorical"
   ]
  },
  {
   "cell_type": "code",
   "execution_count": 17,
   "metadata": {},
   "outputs": [],
   "source": [
    "X_train, y_train = get_X_y(training, xdim=xdim, num_features=num_features)\n",
    "X_validation, y_validation = get_X_y(validation, xdim=xdim, num_features=num_features)\n",
    "y_train, y_validation = to_categorical(y_train), to_categorical(y_validation)"
   ]
  },
  {
   "cell_type": "markdown",
   "metadata": {},
   "source": [
    "### Train model"
   ]
  },
  {
   "cell_type": "markdown",
   "metadata": {},
   "source": [
    "**We defined 2 architectures: a deep CNN and a Residual network**"
   ]
  },
  {
   "cell_type": "code",
   "execution_count": 18,
   "metadata": {},
   "outputs": [],
   "source": [
    "import keras"
   ]
  },
  {
   "cell_type": "code",
   "execution_count": 54,
   "metadata": {},
   "outputs": [
    {
     "data": {
      "text/plain": [
       "<module 'models' from '/aimlx/kws/e2e_kws/models.py'>"
      ]
     },
     "execution_count": 54,
     "metadata": {},
     "output_type": "execute_result"
    }
   ],
   "source": [
    "import importlib\n",
    "import models\n",
    "importlib.reload(models)"
   ]
  },
  {
   "cell_type": "code",
   "execution_count": 19,
   "metadata": {},
   "outputs": [],
   "source": [
    "from models import *"
   ]
  },
  {
   "cell_type": "code",
   "execution_count": 41,
   "metadata": {},
   "outputs": [],
   "source": [
    "#model = dnn_model(len(keywords), xdim=xdim, num_features=num_features)\n",
    "#model = res_net(len(keywords), xdim=xdim, num_features=num_features)\n",
    "model = cnn_parada(len(keywords), xdim=xdim, num_features=num_features)\n",
    "#model = baseline_dnn(len(keywords), xdim=xdim, num_features=num_features)"
   ]
  },
  {
   "cell_type": "code",
   "execution_count": 35,
   "metadata": {},
   "outputs": [
    {
     "name": "stdout",
     "output_type": "stream",
     "text": [
      "_________________________________________________________________\n",
      "Layer (type)                 Output Shape              Param #   \n",
      "=================================================================\n",
      "conv2d_3 (Conv2D)            (None, 79, 33, 64)        10304     \n",
      "_________________________________________________________________\n",
      "batch_normalization_3 (Batch (None, 79, 33, 64)        256       \n",
      "_________________________________________________________________\n",
      "max_pooling2d_3 (MaxPooling2 (None, 79, 11, 64)        0         \n",
      "_________________________________________________________________\n",
      "conv2d_4 (Conv2D)            (None, 70, 8, 64)         163904    \n",
      "_________________________________________________________________\n",
      "batch_normalization_4 (Batch (None, 70, 8, 64)         256       \n",
      "_________________________________________________________________\n",
      "max_pooling2d_4 (MaxPooling2 (None, 70, 2, 64)         0         \n",
      "_________________________________________________________________\n",
      "flatten_3 (Flatten)          (None, 8960)              0         \n",
      "_________________________________________________________________\n",
      "dense_8 (Dense)              (None, 32)                286752    \n",
      "_________________________________________________________________\n",
      "dense_9 (Dense)              (None, 128)               4224      \n",
      "_________________________________________________________________\n",
      "dense_10 (Dense)             (None, 5)                 645       \n",
      "=================================================================\n",
      "Total params: 466,341\n",
      "Trainable params: 466,085\n",
      "Non-trainable params: 256\n",
      "_________________________________________________________________\n",
      "None\n"
     ]
    }
   ],
   "source": [
    "print(model.summary())"
   ]
  },
  {
   "cell_type": "code",
   "execution_count": 42,
   "metadata": {},
   "outputs": [
    {
     "name": "stdout",
     "output_type": "stream",
     "text": [
      "Train on 813619 samples, validate on 152839 samples\n",
      "Epoch 1/3\n",
      "813619/813619 [==============================] - 162s 199us/step - loss: 0.3734 - acc: 0.8846 - val_loss: 0.3531 - val_acc: 0.8848\n",
      "Epoch 2/3\n",
      "813619/813619 [==============================] - 161s 198us/step - loss: 0.2313 - acc: 0.9221 - val_loss: 0.2577 - val_acc: 0.9171\n",
      "Epoch 3/3\n",
      "813619/813619 [==============================] - 161s 198us/step - loss: 0.1929 - acc: 0.9329 - val_loss: 0.2722 - val_acc: 0.9152\n"
     ]
    },
    {
     "data": {
      "text/plain": [
       "<keras.callbacks.History at 0x7fd2ab687400>"
      ]
     },
     "execution_count": 42,
     "metadata": {},
     "output_type": "execute_result"
    }
   ],
   "source": [
    "model.fit(X_train, y_train, batch_size=200, epochs=3, verbose=1, validation_data=(X_validation, y_validation))"
   ]
  },
  {
   "cell_type": "code",
   "execution_count": 47,
   "metadata": {},
   "outputs": [
    {
     "name": "stdout",
     "output_type": "stream",
     "text": [
      "Train on 813619 samples, validate on 152839 samples\n",
      "Epoch 1/1\n",
      "813619/813619 [==============================] - 163s 200us/step - loss: 0.1614 - acc: 0.9416 - val_loss: 0.2612 - val_acc: 0.9189\n"
     ]
    },
    {
     "data": {
      "text/plain": [
       "<keras.callbacks.History at 0x7fd2a010fba8>"
      ]
     },
     "execution_count": 47,
     "metadata": {},
     "output_type": "execute_result"
    }
   ],
   "source": [
    "model.fit(X_train, y_train, batch_size=200, epochs=1, verbose=1, validation_data=(X_validation, y_validation))"
   ]
  },
  {
   "cell_type": "code",
   "execution_count": 32,
   "metadata": {},
   "outputs": [
    {
     "name": "stdout",
     "output_type": "stream",
     "text": [
      "Train on 813619 samples, validate on 152839 samples\n",
      "Epoch 1/1\n",
      "813619/813619 [==============================] - 162s 200us/step - loss: 0.1315 - acc: 0.9505 - val_loss: 0.3594 - val_acc: 0.9098\n"
     ]
    },
    {
     "data": {
      "text/plain": [
       "<keras.callbacks.History at 0x7fd2c013fd30>"
      ]
     },
     "execution_count": 32,
     "metadata": {},
     "output_type": "execute_result"
    }
   ],
   "source": [
    "model.fit(X_train, y_train, batch_size=200, epochs=1, verbose=1, validation_data=(X_validation, y_validation))"
   ]
  },
  {
   "cell_type": "code",
   "execution_count": 51,
   "metadata": {},
   "outputs": [],
   "source": [
    "model.save('set1_models/cnn_parada_set1_4_epochs.h5')"
   ]
  },
  {
   "cell_type": "code",
   "execution_count": 95,
   "metadata": {},
   "outputs": [],
   "source": [
    "model = keras.models.load_model('set2_models/dnn_set2_4_epochs.h5')"
   ]
  },
  {
   "cell_type": "code",
   "execution_count": 10,
   "metadata": {},
   "outputs": [],
   "source": [
    "testing = np.load('set3_results/testing_set3.npy', allow_pickle=True)\n",
    "test_ted_talks = np.load('test_ted_talks_50.npy', allow_pickle=True)"
   ]
  },
  {
   "cell_type": "markdown",
   "metadata": {},
   "source": [
    "### Evaluate model"
   ]
  },
  {
   "cell_type": "markdown",
   "metadata": {},
   "source": [
    "**Single keywords with context**"
   ]
  },
  {
   "cell_type": "code",
   "execution_count": 23,
   "metadata": {},
   "outputs": [],
   "source": [
    "from sklearn.metrics import accuracy_score"
   ]
  },
  {
   "cell_type": "code",
   "execution_count": 48,
   "metadata": {},
   "outputs": [
    {
     "name": "stdout",
     "output_type": "stream",
     "text": [
      "49951/49951 [==============================] - 7s 144us/step\n"
     ]
    }
   ],
   "source": [
    "X_test, y_test = get_X_y(testing, xdim=xdim, num_features=num_features)\n",
    "y_pred = model.predict(X_test, verbose=1)\n",
    "y_pred = np.argmax(y_pred, axis=1).reshape(-1,1)"
   ]
  },
  {
   "cell_type": "code",
   "execution_count": 44,
   "metadata": {},
   "outputs": [],
   "source": [
    "def accuracy_per_label(y_true, y_pred, label):\n",
    "    y_true_label = y_true[y_true == label]\n",
    "    y_pred = y_pred[y_true == label]\n",
    "    n_samples = len(y_pred)\n",
    "    return n_samples, accuracy_score(y_true_label, y_pred)"
   ]
  },
  {
   "cell_type": "code",
   "execution_count": 49,
   "metadata": {},
   "outputs": [],
   "source": [
    "accuracies_per_label = []\n",
    "\n",
    "for i in range(len(keywords) + 1):\n",
    "    n, acc = accuracy_per_label(y_test, y_pred, label=i)\n",
    "    if i < len(keywords):\n",
    "        accuracies_per_label.append((n, acc, keywords[i]))\n",
    "    else:\n",
    "        accuracies_per_label.append((n, acc, 'non_keyword'))"
   ]
  },
  {
   "cell_type": "code",
   "execution_count": 46,
   "metadata": {},
   "outputs": [
    {
     "data": {
      "text/plain": [
       "[(41011, 0.9691790007558948, 'non_keyword'),\n",
       " (3364, 0.8647443519619501, 'people'),\n",
       " (2164, 0.661275415896488, 'because'),\n",
       " (1704, 0.6068075117370892, 'world'),\n",
       " (1708, 0.38583138173302106, 'think')]"
      ]
     },
     "execution_count": 46,
     "metadata": {},
     "output_type": "execute_result"
    }
   ],
   "source": [
    "accuracies_per_label = sorted(accuracies_per_label, key=lambda x: x[1], reverse=True)\n",
    "accuracies_per_label"
   ]
  },
  {
   "cell_type": "code",
   "execution_count": 50,
   "metadata": {},
   "outputs": [
    {
     "data": {
      "text/plain": [
       "[(41011, 0.9644241788788374, 'non_keyword'),\n",
       " (3364, 0.8156956004756243, 'people'),\n",
       " (1704, 0.704225352112676, 'world'),\n",
       " (2164, 0.6848428835489834, 'because'),\n",
       " (1708, 0.5971896955503513, 'think')]"
      ]
     },
     "execution_count": 50,
     "metadata": {},
     "output_type": "execute_result"
    }
   ],
   "source": [
    "accuracies_per_label = sorted(accuracies_per_label, key=lambda x: x[1], reverse=True)\n",
    "accuracies_per_label"
   ]
  },
  {
   "cell_type": "markdown",
   "metadata": {},
   "source": [
    "**100 Test TED talks of ~ 30 minutes each**"
   ]
  },
  {
   "cell_type": "code",
   "execution_count": 6,
   "metadata": {},
   "outputs": [],
   "source": [
    "from evaluate import prepare_test_ted_talks\n",
    "from postprocessing import probability_smoothing, reduce_false_alarms"
   ]
  },
  {
   "cell_type": "code",
   "execution_count": 7,
   "metadata": {},
   "outputs": [],
   "source": [
    "shift = 0.1\n",
    "window_dur = 1.0\n",
    "w_smooth = 3"
   ]
  },
  {
   "cell_type": "code",
   "execution_count": 40,
   "metadata": {},
   "outputs": [
    {
     "name": "stderr",
     "output_type": "stream",
     "text": [
      "100%|██████████| 50/50 [09:27<00:00, 11.36s/it]\n"
     ]
    }
   ],
   "source": [
    "test_frames, test_gt_vector, T = prepare_test_ted_talks(test_ted_talks, shift=shift, window_dur=window_dur, xdim=xdim, num_features=num_features, keywords=keywords,\n",
    "                                                     path2wav='/aimlx/Datasets/TEDLIUM_release-3/data/wav', path2json='/aimlx/Datasets/TEDLIUM_release-3/data/final_json')"
   ]
  },
  {
   "cell_type": "code",
   "execution_count": null,
   "metadata": {},
   "outputs": [],
   "source": []
  },
  {
   "cell_type": "code",
   "execution_count": 63,
   "metadata": {},
   "outputs": [
    {
     "name": "stdout",
     "output_type": "stream",
     "text": [
      "260394/260394 [==============================] - 41s 157us/step\n"
     ]
    },
    {
     "name": "stderr",
     "output_type": "stream",
     "text": [
      "100%|██████████| 260394/260394 [00:11<00:00, 22064.14it/s]\n",
      "100%|██████████| 260392/260392 [00:16<00:00, 15976.44it/s]\n"
     ]
    }
   ],
   "source": [
    "y_pred = model.predict(test_frames, verbose=1)\n",
    "y_pred_smoothed = probability_smoothing(y_pred, w_smooth=3)\n",
    "y_pred_modified = reduce_false_alarms(y_pred)"
   ]
  },
  {
   "cell_type": "code",
   "execution_count": 64,
   "metadata": {},
   "outputs": [
    {
     "data": {
      "text/plain": [
       "0.9675798981543353"
      ]
     },
     "execution_count": 64,
     "metadata": {},
     "output_type": "execute_result"
    }
   ],
   "source": [
    "y_prediction = np.argmax(y_pred, axis=1)\n",
    "sum(y_prediction == test_gt_vector)/len(y_prediction)"
   ]
  },
  {
   "cell_type": "code",
   "execution_count": 65,
   "metadata": {},
   "outputs": [
    {
     "data": {
      "text/plain": [
       "0.9768312633931657"
      ]
     },
     "execution_count": 65,
     "metadata": {},
     "output_type": "execute_result"
    }
   ],
   "source": [
    "y_prediction_smoothed = np.argmax(y_pred_smoothed, axis=1)\n",
    "sum(y_prediction_smoothed == test_gt_vector)/len(y_prediction_smoothed)"
   ]
  },
  {
   "cell_type": "code",
   "execution_count": 66,
   "metadata": {},
   "outputs": [
    {
     "data": {
      "text/plain": [
       "0.9803605305805817"
      ]
     },
     "execution_count": 66,
     "metadata": {},
     "output_type": "execute_result"
    }
   ],
   "source": [
    "y_prediction_modified = np.argmax(y_pred_modified, axis=1)\n",
    "sum(y_prediction_modified == test_gt_vector)/len(y_prediction_modified)"
   ]
  },
  {
   "cell_type": "code",
   "execution_count": 67,
   "metadata": {},
   "outputs": [
    {
     "name": "stderr",
     "output_type": "stream",
     "text": [
      "100%|██████████| 260394/260394 [00:11<00:00, 22407.73it/s]\n"
     ]
    },
    {
     "data": {
      "text/plain": [
       "0.9796577494105086"
      ]
     },
     "execution_count": 67,
     "metadata": {},
     "output_type": "execute_result"
    }
   ],
   "source": [
    "y_pred_smoothed_post = probability_smoothing(y_pred_modified, w_smooth=3)\n",
    "y_prediction_smoothed_post = np.argmax(y_pred_smoothed_post, axis=1) \n",
    "sum(y_prediction_smoothed_post == test_gt_vector)/len(y_prediction_smoothed_post)"
   ]
  },
  {
   "cell_type": "code",
   "execution_count": 68,
   "metadata": {},
   "outputs": [
    {
     "name": "stderr",
     "output_type": "stream",
     "text": [
      "100%|██████████| 260392/260392 [00:03<00:00, 82340.01it/s]\n"
     ]
    },
    {
     "data": {
      "text/plain": [
       "0.9785440524743274"
      ]
     },
     "execution_count": 68,
     "metadata": {},
     "output_type": "execute_result"
    }
   ],
   "source": [
    "y_pred_smoothed_pre = reduce_false_alarms(y_pred_smoothed)\n",
    "y_prediction_smoothed_pre = np.argmax(y_pred_smoothed_pre, axis=1)\n",
    "sum( y_prediction_smoothed_pre == test_gt_vector)/len(y_prediction_smoothed_pre)"
   ]
  },
  {
   "cell_type": "markdown",
   "metadata": {},
   "source": [
    "**FOM results**"
   ]
  },
  {
   "cell_type": "code",
   "execution_count": 69,
   "metadata": {},
   "outputs": [],
   "source": [
    "from postprocessing import segment_integration, fom_result"
   ]
  },
  {
   "cell_type": "code",
   "execution_count": null,
   "metadata": {},
   "outputs": [],
   "source": [
    "seg_preds, seg_scores, seg_gt = segment_integration(y_prediction_smoothed_post, np.max(y_pred_smoothed_post, axis=1),\n",
    "                                                    test_gt_vector, non_keyword_label=len(keywords), segment_size=5, undefined_label=-1)"
   ]
  },
  {
   "cell_type": "code",
   "execution_count": 135,
   "metadata": {},
   "outputs": [],
   "source": [
    "df_results = pd.DataFrame(columns=['KeyWord', '#Hits', '#FA\\'s', '#Actual', 'FOM', 'Recall', 'Precision'])\n",
    "for i in range(len(keywords)):\n",
    "    hits, false_alarms, nb_TP, fom = fom_result(seg_preds, seg_scores, seg_gt, keyword_label=i, window_dur=1.0, shift=0.1, segment_size=5, T=T)\n",
    "    df_results = df_results.append({'KeyWord': keywords[i], '#Hits': hits, '#FA\\'s': false_alarms, '#Actual': nb_TP, 'FOM': round(fom, 2), \n",
    "                                    'Recall': round(hits/nb_TP, 2), 'Precision': round(hits/(hits+false_alarms), 2)},\n",
    "                                   ignore_index=True)"
   ]
  },
  {
   "cell_type": "code",
   "execution_count": 136,
   "metadata": {},
   "outputs": [
    {
     "data": {
      "text/html": [
       "<div>\n",
       "<style scoped>\n",
       "    .dataframe tbody tr th:only-of-type {\n",
       "        vertical-align: middle;\n",
       "    }\n",
       "\n",
       "    .dataframe tbody tr th {\n",
       "        vertical-align: top;\n",
       "    }\n",
       "\n",
       "    .dataframe thead th {\n",
       "        text-align: right;\n",
       "    }\n",
       "</style>\n",
       "<table border=\"1\" class=\"dataframe\">\n",
       "  <thead>\n",
       "    <tr style=\"text-align: right;\">\n",
       "      <th></th>\n",
       "      <th>KeyWord</th>\n",
       "      <th>#Hits</th>\n",
       "      <th>#FA's</th>\n",
       "      <th>#Actual</th>\n",
       "      <th>FOM</th>\n",
       "      <th>Recall</th>\n",
       "      <th>Precision</th>\n",
       "    </tr>\n",
       "  </thead>\n",
       "  <tbody>\n",
       "    <tr>\n",
       "      <th>0</th>\n",
       "      <td>something</td>\n",
       "      <td>56</td>\n",
       "      <td>59</td>\n",
       "      <td>89</td>\n",
       "      <td>29.15</td>\n",
       "      <td>0.63</td>\n",
       "      <td>0.49</td>\n",
       "    </tr>\n",
       "    <tr>\n",
       "      <th>1</th>\n",
       "      <td>different</td>\n",
       "      <td>69</td>\n",
       "      <td>110</td>\n",
       "      <td>93</td>\n",
       "      <td>58.26</td>\n",
       "      <td>0.74</td>\n",
       "      <td>0.39</td>\n",
       "    </tr>\n",
       "    <tr>\n",
       "      <th>2</th>\n",
       "      <td>actually</td>\n",
       "      <td>103</td>\n",
       "      <td>77</td>\n",
       "      <td>154</td>\n",
       "      <td>42.51</td>\n",
       "      <td>0.67</td>\n",
       "      <td>0.57</td>\n",
       "    </tr>\n",
       "    <tr>\n",
       "      <th>3</th>\n",
       "      <td>important</td>\n",
       "      <td>45</td>\n",
       "      <td>115</td>\n",
       "      <td>57</td>\n",
       "      <td>69.91</td>\n",
       "      <td>0.79</td>\n",
       "      <td>0.28</td>\n",
       "    </tr>\n",
       "  </tbody>\n",
       "</table>\n",
       "</div>"
      ],
      "text/plain": [
       "     KeyWord #Hits #FA's #Actual    FOM  Recall  Precision\n",
       "0  something    56    59      89  29.15    0.63       0.49\n",
       "1  different    69   110      93  58.26    0.74       0.39\n",
       "2   actually   103    77     154  42.51    0.67       0.57\n",
       "3  important    45   115      57  69.91    0.79       0.28"
      ]
     },
     "execution_count": 136,
     "metadata": {},
     "output_type": "execute_result"
    }
   ],
   "source": [
    "df_results"
   ]
  },
  {
   "cell_type": "code",
   "execution_count": 94,
   "metadata": {},
   "outputs": [
    {
     "data": {
      "text/html": [
       "<div>\n",
       "<style scoped>\n",
       "    .dataframe tbody tr th:only-of-type {\n",
       "        vertical-align: middle;\n",
       "    }\n",
       "\n",
       "    .dataframe tbody tr th {\n",
       "        vertical-align: top;\n",
       "    }\n",
       "\n",
       "    .dataframe thead th {\n",
       "        text-align: right;\n",
       "    }\n",
       "</style>\n",
       "<table border=\"1\" class=\"dataframe\">\n",
       "  <thead>\n",
       "    <tr style=\"text-align: right;\">\n",
       "      <th></th>\n",
       "      <th>KeyWord</th>\n",
       "      <th>#Hits</th>\n",
       "      <th>#FA's</th>\n",
       "      <th>#Actual</th>\n",
       "      <th>FOM</th>\n",
       "      <th>Recall</th>\n",
       "      <th>Precision</th>\n",
       "    </tr>\n",
       "  </thead>\n",
       "  <tbody>\n",
       "    <tr>\n",
       "      <th>0</th>\n",
       "      <td>something</td>\n",
       "      <td>69</td>\n",
       "      <td>103</td>\n",
       "      <td>89</td>\n",
       "      <td>39.936522</td>\n",
       "      <td>0.78</td>\n",
       "      <td>0.40</td>\n",
       "    </tr>\n",
       "    <tr>\n",
       "      <th>1</th>\n",
       "      <td>different</td>\n",
       "      <td>53</td>\n",
       "      <td>27</td>\n",
       "      <td>93</td>\n",
       "      <td>6.984207</td>\n",
       "      <td>0.57</td>\n",
       "      <td>0.66</td>\n",
       "    </tr>\n",
       "    <tr>\n",
       "      <th>2</th>\n",
       "      <td>actually</td>\n",
       "      <td>59</td>\n",
       "      <td>18</td>\n",
       "      <td>154</td>\n",
       "      <td>3.198505</td>\n",
       "      <td>0.38</td>\n",
       "      <td>0.77</td>\n",
       "    </tr>\n",
       "    <tr>\n",
       "      <th>3</th>\n",
       "      <td>important</td>\n",
       "      <td>43</td>\n",
       "      <td>36</td>\n",
       "      <td>57</td>\n",
       "      <td>14.674373</td>\n",
       "      <td>0.75</td>\n",
       "      <td>0.54</td>\n",
       "    </tr>\n",
       "  </tbody>\n",
       "</table>\n",
       "</div>"
      ],
      "text/plain": [
       "     KeyWord #Hits #FA's #Actual        FOM  Recall  Precision\n",
       "0  something    69   103      89  39.936522    0.78       0.40\n",
       "1  different    53    27      93   6.984207    0.57       0.66\n",
       "2   actually    59    18     154   3.198505    0.38       0.77\n",
       "3  important    43    36      57  14.674373    0.75       0.54"
      ]
     },
     "execution_count": 94,
     "metadata": {},
     "output_type": "execute_result"
    }
   ],
   "source": [
    "df_results"
   ]
  },
  {
   "cell_type": "code",
   "execution_count": 96,
   "metadata": {},
   "outputs": [
    {
     "data": {
      "text/html": [
       "<div>\n",
       "<style scoped>\n",
       "    .dataframe tbody tr th:only-of-type {\n",
       "        vertical-align: middle;\n",
       "    }\n",
       "\n",
       "    .dataframe tbody tr th {\n",
       "        vertical-align: top;\n",
       "    }\n",
       "\n",
       "    .dataframe thead th {\n",
       "        text-align: right;\n",
       "    }\n",
       "</style>\n",
       "<table border=\"1\" class=\"dataframe\">\n",
       "  <thead>\n",
       "    <tr style=\"text-align: right;\">\n",
       "      <th></th>\n",
       "      <th>KeyWord</th>\n",
       "      <th>#Hits</th>\n",
       "      <th>#FA's</th>\n",
       "      <th>#Actual</th>\n",
       "      <th>FOM</th>\n",
       "      <th>Recall</th>\n",
       "    </tr>\n",
       "  </thead>\n",
       "  <tbody>\n",
       "    <tr>\n",
       "      <th>0</th>\n",
       "      <td>another</td>\n",
       "      <td>21</td>\n",
       "      <td>49</td>\n",
       "      <td>38</td>\n",
       "      <td>6.386369</td>\n",
       "      <td>0.55</td>\n",
       "    </tr>\n",
       "    <tr>\n",
       "      <th>1</th>\n",
       "      <td>percent</td>\n",
       "      <td>19</td>\n",
       "      <td>13</td>\n",
       "      <td>30</td>\n",
       "      <td>2.320730</td>\n",
       "      <td>0.63</td>\n",
       "    </tr>\n",
       "    <tr>\n",
       "      <th>2</th>\n",
       "      <td>problem</td>\n",
       "      <td>6</td>\n",
       "      <td>4</td>\n",
       "      <td>13</td>\n",
       "      <td>0.612061</td>\n",
       "      <td>0.46</td>\n",
       "    </tr>\n",
       "    <tr>\n",
       "      <th>3</th>\n",
       "      <td>technology</td>\n",
       "      <td>42</td>\n",
       "      <td>50</td>\n",
       "      <td>64</td>\n",
       "      <td>6.511511</td>\n",
       "      <td>0.66</td>\n",
       "    </tr>\n",
       "  </tbody>\n",
       "</table>\n",
       "</div>"
      ],
      "text/plain": [
       "      KeyWord #Hits #FA's #Actual       FOM  Recall\n",
       "0     another    21    49      38  6.386369    0.55\n",
       "1     percent    19    13      30  2.320730    0.63\n",
       "2     problem     6     4      13  0.612061    0.46\n",
       "3  technology    42    50      64  6.511511    0.66"
      ]
     },
     "execution_count": 96,
     "metadata": {},
     "output_type": "execute_result"
    }
   ],
   "source": [
    "df_results"
   ]
  },
  {
   "cell_type": "code",
   "execution_count": 122,
   "metadata": {},
   "outputs": [
    {
     "data": {
      "text/html": [
       "<div>\n",
       "<style scoped>\n",
       "    .dataframe tbody tr th:only-of-type {\n",
       "        vertical-align: middle;\n",
       "    }\n",
       "\n",
       "    .dataframe tbody tr th {\n",
       "        vertical-align: top;\n",
       "    }\n",
       "\n",
       "    .dataframe thead th {\n",
       "        text-align: right;\n",
       "    }\n",
       "</style>\n",
       "<table border=\"1\" class=\"dataframe\">\n",
       "  <thead>\n",
       "    <tr style=\"text-align: right;\">\n",
       "      <th></th>\n",
       "      <th>KeyWord</th>\n",
       "      <th>#Hits</th>\n",
       "      <th>#FA's</th>\n",
       "      <th>#Actual</th>\n",
       "      <th>FOM</th>\n",
       "    </tr>\n",
       "  </thead>\n",
       "  <tbody>\n",
       "    <tr>\n",
       "      <th>0</th>\n",
       "      <td>information</td>\n",
       "      <td>11</td>\n",
       "      <td>90</td>\n",
       "      <td>24</td>\n",
       "      <td>13.553414</td>\n",
       "    </tr>\n",
       "    <tr>\n",
       "      <th>1</th>\n",
       "      <td>experience</td>\n",
       "      <td>4</td>\n",
       "      <td>24</td>\n",
       "      <td>23</td>\n",
       "      <td>1.167333</td>\n",
       "    </tr>\n",
       "    <tr>\n",
       "      <th>2</th>\n",
       "      <td>government</td>\n",
       "      <td>4</td>\n",
       "      <td>20</td>\n",
       "      <td>22</td>\n",
       "      <td>1.361209</td>\n",
       "    </tr>\n",
       "    <tr>\n",
       "      <th>3</th>\n",
       "      <td>computer</td>\n",
       "      <td>5</td>\n",
       "      <td>8</td>\n",
       "      <td>19</td>\n",
       "      <td>1.304389</td>\n",
       "    </tr>\n",
       "  </tbody>\n",
       "</table>\n",
       "</div>"
      ],
      "text/plain": [
       "       KeyWord #Hits #FA's #Actual        FOM\n",
       "0  information    11    90      24  13.553414\n",
       "1   experience     4    24      23   1.167333\n",
       "2   government     4    20      22   1.361209\n",
       "3     computer     5     8      19   1.304389"
      ]
     },
     "execution_count": 122,
     "metadata": {},
     "output_type": "execute_result"
    }
   ],
   "source": [
    "df_results"
   ]
  },
  {
   "cell_type": "code",
   "execution_count": 23,
   "metadata": {},
   "outputs": [
    {
     "data": {
      "text/html": [
       "<div>\n",
       "<style scoped>\n",
       "    .dataframe tbody tr th:only-of-type {\n",
       "        vertical-align: middle;\n",
       "    }\n",
       "\n",
       "    .dataframe tbody tr th {\n",
       "        vertical-align: top;\n",
       "    }\n",
       "\n",
       "    .dataframe thead th {\n",
       "        text-align: right;\n",
       "    }\n",
       "</style>\n",
       "<table border=\"1\" class=\"dataframe\">\n",
       "  <thead>\n",
       "    <tr style=\"text-align: right;\">\n",
       "      <th></th>\n",
       "      <th>KeyWord</th>\n",
       "      <th>#Hits</th>\n",
       "      <th>#FA's</th>\n",
       "      <th>#Actual</th>\n",
       "      <th>FOM</th>\n",
       "    </tr>\n",
       "  </thead>\n",
       "  <tbody>\n",
       "    <tr>\n",
       "      <th>0</th>\n",
       "      <td>something</td>\n",
       "      <td>60</td>\n",
       "      <td>153</td>\n",
       "      <td>89</td>\n",
       "      <td>21.876342</td>\n",
       "    </tr>\n",
       "    <tr>\n",
       "      <th>1</th>\n",
       "      <td>different</td>\n",
       "      <td>70</td>\n",
       "      <td>233</td>\n",
       "      <td>95</td>\n",
       "      <td>17.708499</td>\n",
       "    </tr>\n",
       "    <tr>\n",
       "      <th>2</th>\n",
       "      <td>actually</td>\n",
       "      <td>109</td>\n",
       "      <td>100</td>\n",
       "      <td>160</td>\n",
       "      <td>29.701338</td>\n",
       "    </tr>\n",
       "    <tr>\n",
       "      <th>3</th>\n",
       "      <td>important</td>\n",
       "      <td>52</td>\n",
       "      <td>145</td>\n",
       "      <td>60</td>\n",
       "      <td>32.291437</td>\n",
       "    </tr>\n",
       "  </tbody>\n",
       "</table>\n",
       "</div>"
      ],
      "text/plain": [
       "     KeyWord #Hits #FA's #Actual        FOM\n",
       "0  something    60   153      89  21.876342\n",
       "1  different    70   233      95  17.708499\n",
       "2   actually   109   100     160  29.701338\n",
       "3  important    52   145      60  32.291437"
      ]
     },
     "execution_count": 23,
     "metadata": {},
     "output_type": "execute_result"
    }
   ],
   "source": [
    "df_results"
   ]
  },
  {
   "cell_type": "code",
   "execution_count": 33,
   "metadata": {},
   "outputs": [
    {
     "data": {
      "text/html": [
       "<div>\n",
       "<style scoped>\n",
       "    .dataframe tbody tr th:only-of-type {\n",
       "        vertical-align: middle;\n",
       "    }\n",
       "\n",
       "    .dataframe tbody tr th {\n",
       "        vertical-align: top;\n",
       "    }\n",
       "\n",
       "    .dataframe thead th {\n",
       "        text-align: right;\n",
       "    }\n",
       "</style>\n",
       "<table border=\"1\" class=\"dataframe\">\n",
       "  <thead>\n",
       "    <tr style=\"text-align: right;\">\n",
       "      <th></th>\n",
       "      <th>KeyWord</th>\n",
       "      <th>#Hits</th>\n",
       "      <th>#FA's</th>\n",
       "      <th>#Actual</th>\n",
       "      <th>FOM</th>\n",
       "    </tr>\n",
       "  </thead>\n",
       "  <tbody>\n",
       "    <tr>\n",
       "      <th>0</th>\n",
       "      <td>something</td>\n",
       "      <td>40</td>\n",
       "      <td>21</td>\n",
       "      <td>89</td>\n",
       "      <td>5.012370</td>\n",
       "    </tr>\n",
       "    <tr>\n",
       "      <th>1</th>\n",
       "      <td>different</td>\n",
       "      <td>50</td>\n",
       "      <td>110</td>\n",
       "      <td>95</td>\n",
       "      <td>23.499483</td>\n",
       "    </tr>\n",
       "    <tr>\n",
       "      <th>2</th>\n",
       "      <td>actually</td>\n",
       "      <td>98</td>\n",
       "      <td>104</td>\n",
       "      <td>160</td>\n",
       "      <td>27.499762</td>\n",
       "    </tr>\n",
       "    <tr>\n",
       "      <th>3</th>\n",
       "      <td>important</td>\n",
       "      <td>22</td>\n",
       "      <td>18</td>\n",
       "      <td>60</td>\n",
       "      <td>2.943027</td>\n",
       "    </tr>\n",
       "  </tbody>\n",
       "</table>\n",
       "</div>"
      ],
      "text/plain": [
       "     KeyWord #Hits #FA's #Actual        FOM\n",
       "0  something    40    21      89   5.012370\n",
       "1  different    50   110      95  23.499483\n",
       "2   actually    98   104     160  27.499762\n",
       "3  important    22    18      60   2.943027"
      ]
     },
     "execution_count": 33,
     "metadata": {},
     "output_type": "execute_result"
    }
   ],
   "source": [
    "df_results"
   ]
  },
  {
   "cell_type": "code",
   "execution_count": 22,
   "metadata": {},
   "outputs": [
    {
     "data": {
      "text/html": [
       "<div>\n",
       "<style scoped>\n",
       "    .dataframe tbody tr th:only-of-type {\n",
       "        vertical-align: middle;\n",
       "    }\n",
       "\n",
       "    .dataframe tbody tr th {\n",
       "        vertical-align: top;\n",
       "    }\n",
       "\n",
       "    .dataframe thead th {\n",
       "        text-align: right;\n",
       "    }\n",
       "</style>\n",
       "<table border=\"1\" class=\"dataframe\">\n",
       "  <thead>\n",
       "    <tr style=\"text-align: right;\">\n",
       "      <th></th>\n",
       "      <th>KeyWord</th>\n",
       "      <th>#Hits</th>\n",
       "      <th>#FA's</th>\n",
       "      <th>#Actual</th>\n",
       "      <th>FOM</th>\n",
       "    </tr>\n",
       "  </thead>\n",
       "  <tbody>\n",
       "    <tr>\n",
       "      <th>0</th>\n",
       "      <td>another</td>\n",
       "      <td>28</td>\n",
       "      <td>48</td>\n",
       "      <td>62</td>\n",
       "      <td>8.527616</td>\n",
       "    </tr>\n",
       "    <tr>\n",
       "      <th>1</th>\n",
       "      <td>percent</td>\n",
       "      <td>24</td>\n",
       "      <td>57</td>\n",
       "      <td>43</td>\n",
       "      <td>10.182321</td>\n",
       "    </tr>\n",
       "    <tr>\n",
       "      <th>2</th>\n",
       "      <td>problem</td>\n",
       "      <td>28</td>\n",
       "      <td>68</td>\n",
       "      <td>63</td>\n",
       "      <td>17.390987</td>\n",
       "    </tr>\n",
       "    <tr>\n",
       "      <th>3</th>\n",
       "      <td>technology</td>\n",
       "      <td>11</td>\n",
       "      <td>22</td>\n",
       "      <td>22</td>\n",
       "      <td>6.101970</td>\n",
       "    </tr>\n",
       "  </tbody>\n",
       "</table>\n",
       "</div>"
      ],
      "text/plain": [
       "      KeyWord #Hits #FA's #Actual        FOM\n",
       "0     another    28    48      62   8.527616\n",
       "1     percent    24    57      43  10.182321\n",
       "2     problem    28    68      63  17.390987\n",
       "3  technology    11    22      22   6.101970"
      ]
     },
     "execution_count": 22,
     "metadata": {},
     "output_type": "execute_result"
    }
   ],
   "source": [
    "df_results"
   ]
  },
  {
   "cell_type": "code",
   "execution_count": 32,
   "metadata": {},
   "outputs": [
    {
     "data": {
      "text/html": [
       "<div>\n",
       "<style scoped>\n",
       "    .dataframe tbody tr th:only-of-type {\n",
       "        vertical-align: middle;\n",
       "    }\n",
       "\n",
       "    .dataframe tbody tr th {\n",
       "        vertical-align: top;\n",
       "    }\n",
       "\n",
       "    .dataframe thead th {\n",
       "        text-align: right;\n",
       "    }\n",
       "</style>\n",
       "<table border=\"1\" class=\"dataframe\">\n",
       "  <thead>\n",
       "    <tr style=\"text-align: right;\">\n",
       "      <th></th>\n",
       "      <th>KeyWord</th>\n",
       "      <th>#Hits</th>\n",
       "      <th>#FA's</th>\n",
       "      <th>#Actual</th>\n",
       "      <th>FOM</th>\n",
       "    </tr>\n",
       "  </thead>\n",
       "  <tbody>\n",
       "    <tr>\n",
       "      <th>0</th>\n",
       "      <td>another</td>\n",
       "      <td>38</td>\n",
       "      <td>86</td>\n",
       "      <td>62</td>\n",
       "      <td>23.484256</td>\n",
       "    </tr>\n",
       "    <tr>\n",
       "      <th>1</th>\n",
       "      <td>percent</td>\n",
       "      <td>28</td>\n",
       "      <td>54</td>\n",
       "      <td>43</td>\n",
       "      <td>11.743290</td>\n",
       "    </tr>\n",
       "    <tr>\n",
       "      <th>2</th>\n",
       "      <td>problem</td>\n",
       "      <td>20</td>\n",
       "      <td>23</td>\n",
       "      <td>63</td>\n",
       "      <td>4.704254</td>\n",
       "    </tr>\n",
       "    <tr>\n",
       "      <th>3</th>\n",
       "      <td>technology</td>\n",
       "      <td>12</td>\n",
       "      <td>21</td>\n",
       "      <td>22</td>\n",
       "      <td>6.477476</td>\n",
       "    </tr>\n",
       "  </tbody>\n",
       "</table>\n",
       "</div>"
      ],
      "text/plain": [
       "      KeyWord #Hits #FA's #Actual        FOM\n",
       "0     another    38    86      62  23.484256\n",
       "1     percent    28    54      43  11.743290\n",
       "2     problem    20    23      63   4.704254\n",
       "3  technology    12    21      22   6.477476"
      ]
     },
     "execution_count": 32,
     "metadata": {},
     "output_type": "execute_result"
    }
   ],
   "source": [
    "df_results"
   ]
  },
  {
   "cell_type": "markdown",
   "metadata": {},
   "source": [
    "**Plot results**"
   ]
  },
  {
   "cell_type": "code",
   "execution_count": 64,
   "metadata": {},
   "outputs": [],
   "source": [
    "index_neg = (test_gt_vector == -1)\n",
    "gt_kw = abs(test_gt_vector - len(keywords))\n",
    "gt_kw[index_neg] = -1\n",
    "#pred_kw = abs(y_prediction_modified - len(keywords))\n",
    "#pred_kw[pred_kw > 0] = 1\n",
    "gt_fixed = gt_kw\n",
    "gt_fixed[gt_fixed > 0] = 1 "
   ]
  },
  {
   "cell_type": "code",
   "execution_count": 65,
   "metadata": {},
   "outputs": [],
   "source": [
    "nb_frames = 200\n",
    "gen = [nb_frames*i for i in range(1, int(len(test_gt_vector)/nb_frames) + 1)]\n",
    "gen = iter(gen)\n",
    "end = 0\n",
    "speech_seg_size = window_dur + (nb_frames - 1)*shift\n",
    "end_speech_seg = 0"
   ]
  },
  {
   "cell_type": "code",
   "execution_count": null,
   "metadata": {},
   "outputs": [],
   "source": [
    "exists = True\n",
    "while exists:\n",
    "    try:\n",
    "        start = end\n",
    "        end = next(gen)\n",
    "\n",
    "        start_speech_seg = end_speech_seg\n",
    "        end_speech_seg = start_speech_seg + speech_seg_size\n",
    "\n",
    "        plt.figure(figsize=(12, 10))\n",
    "        plt.plot(gt_fixed[start:end], label='ground truth')\n",
    "        #plt.plot(pred_kw[start:end], label='prediction')\n",
    "\n",
    "        for i in range(len(keywords)):\n",
    "            plt.plot(y_pred_smoothed_pre[start:end,i], label=keywords[i])\n",
    "\n",
    "        plt.plot([0.5] * nb_frames , color='black')\n",
    "        plt.legend(loc=\"lower right\")\n",
    "        plt.ylabel('probabilty')\n",
    "        plt.xlabel('frame index')\n",
    "        title = 'Predictions for Speech Segment: ' + str(round(start_speech_seg, 3)) + 's - ' + str(round(end_speech_seg,3)) + 's'     \n",
    "        plt.title(title)\n",
    "        plt.show()\n",
    "        #plt.savefig('test_ted_talk_images/' + title + '.png')\n",
    "    except:\n",
    "        exists = False\n"
   ]
  },
  {
   "cell_type": "code",
   "execution_count": 33,
   "metadata": {},
   "outputs": [],
   "source": [
    "from sklearn.metrics import confusion_matrix\n",
    "import seaborn as sns"
   ]
  },
  {
   "cell_type": "code",
   "execution_count": 41,
   "metadata": {},
   "outputs": [],
   "source": [
    "def print_confusion_matrix(confusion_matrix, class_names, figsize = (10,7), fontsize=14):\n",
    "    \"\"\"Prints a confusion matrix, as returned by sklearn.metrics.confusion_matrix, as a heatmap.\n",
    "    \n",
    "    Arguments\n",
    "    ---------\n",
    "    confusion_matrix: numpy.ndarray\n",
    "        The numpy.ndarray object returned from a call to sklearn.metrics.confusion_matrix. \n",
    "        Similarly constructed ndarrays can also be used.\n",
    "    class_names: list\n",
    "        An ordered list of class names, in the order they index the given confusion matrix.\n",
    "    figsize: tuple\n",
    "        A 2-long tuple, the first value determining the horizontal size of the ouputted figure,\n",
    "        the second determining the vertical size. Defaults to (10,7).\n",
    "    fontsize: int\n",
    "        Font size for axes labels. Defaults to 14.\n",
    "        \n",
    "    Returns\n",
    "    -------\n",
    "    matplotlib.figure.Figure\n",
    "        The resulting confusion matrix figure\n",
    "    \"\"\"\n",
    "    df_cm = pd.DataFrame(\n",
    "        confusion_matrix, index=class_names, columns=class_names, \n",
    "    )\n",
    "    fig = plt.figure(figsize=figsize)\n",
    "    try:\n",
    "        heatmap = sns.heatmap(df_cm, annot=True, fmt=\"d\", cmap='Blues', vmin=0, vmax=1000)\n",
    "    except ValueError:\n",
    "        raise ValueError(\"Confusion matrix values must be integers.\")\n",
    "    heatmap.yaxis.set_ticklabels(heatmap.yaxis.get_ticklabels(), rotation=0, ha='right', fontsize=fontsize)\n",
    "    heatmap.xaxis.set_ticklabels(heatmap.xaxis.get_ticklabels(), rotation=45, ha='right', fontsize=fontsize)\n",
    "    plt.ylabel('True label')\n",
    "    plt.xlabel('Predicted label')"
   ]
  },
  {
   "cell_type": "code",
   "execution_count": 38,
   "metadata": {},
   "outputs": [
    {
     "data": {
      "image/png": "[encoded data removed]",
      "text/plain": [
       "<matplotlib.figure.Figure at 0x7f2638749d30>"
      ]
     },
     "metadata": {
      "needs_background": "light"
     },
     "output_type": "display_data"
    }
   ],
   "source": [
    "cm = confusion_matrix(y_true=test_gt_vector, y_pred=y_prediction)\n",
    "#cm = cm[1:,1:]\n",
    "_  = print_confusion_matrix(cm, keywords + ['non_keyword'])"
   ]
  },
  {
   "cell_type": "code",
   "execution_count": 43,
   "metadata": {},
   "outputs": [
    {
     "data": {
      "image/png": "[encoded data removed]",
      "text/plain": [
       "<matplotlib.figure.Figure at 0x7f26682b12e8>"
      ]
     },
     "metadata": {
      "needs_background": "light"
     },
     "output_type": "display_data"
    }
   ],
   "source": [
    "cm_smoothed = confusion_matrix(y_true=test_gt_vector, y_pred=y_prediction_smoothed_post)\n",
    "#cm_smoothed = cm_smoothed[1:,1:]\n",
    "_  = print_confusion_matrix(cm_smoothed, keywords + ['non_keyword'])"
   ]
  },
  {
   "cell_type": "code",
   "execution_count": 42,
   "metadata": {},
   "outputs": [
    {
     "data": {
      "image/png": "[encoded data removed]",
      "text/plain": [
       "<matplotlib.figure.Figure at 0x7f37505ad6a0>"
      ]
     },
     "metadata": {
      "needs_background": "light"
     },
     "output_type": "display_data"
    }
   ],
   "source": [
    "cm_modif = confusion_matrix(y_true=test_gt_vector, y_pred=y_prediction_modified)\n",
    "cm_modif = cm_modif[1:,1:]\n",
    "_  = print_confusion_matrix(cm_modif, keywords + ['non_keyword'])"
   ]
  },
  {
   "cell_type": "markdown",
   "metadata": {},
   "source": [
    "**Get path to all TED talks**"
   ]
  },
  {
   "cell_type": "code",
   "execution_count": 42,
   "metadata": {},
   "outputs": [],
   "source": [
    "from preprocessing import which_set\n",
    "from postprocessing import create_file, extract_sentence"
   ]
  },
  {
   "cell_type": "code",
   "execution_count": 321,
   "metadata": {},
   "outputs": [],
   "source": [
    "path2wav_train = os.path.abspath(\"../../Datasets/TEDLIUM_release1/train/wav/\")\n",
    "path2wav_test = os.path.abspath(\"../../Datasets/TEDLIUM_release1/test/wav/\")\n",
    "path2wav_dev = os.path.abspath(\"../../Datasets/TEDLIUM_release1/dev/wav/\")\n",
    "\n",
    "path2ted_talks = []\n",
    "\n",
    "for _, _, files in os.walk(path2wav_train):\n",
    "    for file in files:\n",
    "        path2ted_talks.append(os.path.join(path2wav_train, file))\n",
    "        \n",
    "for _, _, files in os.walk(path2wav_test):\n",
    "    for file in files:\n",
    "        path2ted_talks.append(os.path.join(path2wav_test, file))\n",
    "        \n",
    "for _, _, files in os.walk(path2wav_dev):\n",
    "    for file in files:\n",
    "        path2ted_talks.append(os.path.join(path2wav_dev, file))"
   ]
  },
  {
   "cell_type": "code",
   "execution_count": 30,
   "metadata": {},
   "outputs": [
    {
     "name": "stderr",
     "output_type": "stream",
     "text": [
      "100%|██████████| 230882/230882 [00:02<00:00, 97693.53it/s] \n"
     ]
    }
   ],
   "source": [
    "test_ted_talks_people = []\n",
    "for file in tqdm(filenames):\n",
    "    grp = which_set(file, validation_percentage=10, testing_percentage=10)\n",
    "    if grp is 'testing':\n",
    "        if 'people' in file:\n",
    "            ted_talk = re.sub(r'_.*$', '', os.path.basename(file).replace('_', '-', 1)).replace('-', '_')\n",
    "            path2ted_talk = list(filter(lambda x: ted_talk in x, path2ted_talks))\n",
    "            test_ted_talks_people.extend(path2ted_talk)\n",
    "test_ted_talks_people = list(set(test_ted_talks_people))"
   ]
  },
  {
   "cell_type": "code",
   "execution_count": 43,
   "metadata": {},
   "outputs": [],
   "source": [
    "test_files = []\n",
    "for file in filenames:\n",
    "    grp = which_set(file, validation_percentage=10, testing_percentage=10)\n",
    "    if grp is 'testing':\n",
    "        if any(kw in file for kw in keywords):\n",
    "            test_files.append(file)"
   ]
  },
  {
   "cell_type": "code",
   "execution_count": 44,
   "metadata": {},
   "outputs": [],
   "source": [
    "test_files_iterator = iter(test_files)"
   ]
  },
  {
   "cell_type": "code",
   "execution_count": 45,
   "metadata": {},
   "outputs": [],
   "source": [
    "from postprocessing import create_file, extract_sentence"
   ]
  },
  {
   "cell_type": "code",
   "execution_count": null,
   "metadata": {},
   "outputs": [],
   "source": [
    "file_partition = create_file()\n",
    "fs, sentence, y_test = extract_sentence(path2wav_file=random.sample(test_files,k=1)[0], path2dataset='/aimlx/Datasets/TEDLIUM_release1/', keywords=keywords,\n",
    "                                        file_partition=file_partition, duration=5, shift=0.1, percentage_kw=1.0)\n",
    "\n",
    "IPython.display.Audio(sentence, rate=fs)"
   ]
  },
  {
   "cell_type": "code",
   "execution_count": 89,
   "metadata": {},
   "outputs": [
    {
     "data": {
      "text/plain": [
       "array([4, 4, 4, 4, 4, 4, 4, 4, 4, 4, 4, 4, 4, 4, 4, 4, 4, 4, 0, 0, 0, 0,\n",
       "       0, 0, 0, 0, 4, 4, 4, 4, 4, 4, 4, 4, 4, 4, 4, 4, 4, 4, 4, 4, 4, 4])"
      ]
     },
     "execution_count": 89,
     "metadata": {},
     "output_type": "execute_result"
    }
   ],
   "source": [
    "y_test"
   ]
  },
  {
   "cell_type": "code",
   "execution_count": 90,
   "metadata": {},
   "outputs": [
    {
     "name": "stderr",
     "output_type": "stream",
     "text": [
      "100%|██████████| 44/44 [00:00<00:00, 414.39it/s]"
     ]
    },
    {
     "name": "stdout",
     "output_type": "stream",
     "text": [
      "44/44 [==============================] - 0s 180us/step\n"
     ]
    },
    {
     "name": "stderr",
     "output_type": "stream",
     "text": [
      "\n"
     ]
    },
    {
     "data": {
      "text/plain": [
       "<matplotlib.legend.Legend at 0x7f7ffbb96358>"
      ]
     },
     "execution_count": 90,
     "metadata": {},
     "output_type": "execute_result"
    },
    {
     "data": {
      "image/png": "[encoded data removed]",
      "text/plain": [
       "<matplotlib.figure.Figure at 0x7f7c4c4d9438>"
      ]
     },
     "metadata": {
      "needs_background": "light"
     },
     "output_type": "display_data"
    }
   ],
   "source": [
    "frames = compute_mfcc_frames(sentence, fs, xdim, shift=0.1, num_features=40)\n",
    "y_pred = model.predict(frames, verbose=1)\n",
    "plt.plot(y_pred[:,0], label='0 ' + keywords[0])\n",
    "plt.plot(y_pred[:,1], label='1 ' + keywords[1])\n",
    "plt.plot(y_pred[:,2], label='2 ' + keywords[2])\n",
    "plt.plot(y_pred[:,3], label='3 ' + keywords[3])\n",
    "#plt.plot(y_pred[:,4], label='4 ' + keywords[4])\n",
    "plt.legend(loc=\"lower right\")"
   ]
  },
  {
   "cell_type": "code",
   "execution_count": 329,
   "metadata": {},
   "outputs": [
    {
     "data": {
      "text/plain": [
       "array([5, 5, 5, 5, 1, 5, 5, 5, 4, 4, 4, 5, 5, 5, 5, 5, 5, 1, 1])"
      ]
     },
     "execution_count": 329,
     "metadata": {},
     "output_type": "execute_result"
    }
   ],
   "source": [
    "np.argmax(y_pred, axis=1)"
   ]
  },
  {
   "cell_type": "code",
   "execution_count": null,
   "metadata": {},
   "outputs": [],
   "source": [
    "# precision recall curve\n",
    "# temp = label_binarize(y_test, classes=range(len(keywords) + 1))\n",
    "# precision, recall, _ = precision_recall_curve(temp[:, 3],y_pred[:, 3])\n",
    "# plt.plot(recall, precision, lw=2)\n",
    "# plt.xlabel(\"recall\")\n",
    "# plt.ylabel(\"precision\")\n",
    "# plt.title(\"precision vs. recall curve\")\n",
    "# plt.show()"
   ]
  },
  {
   "cell_type": "code",
   "execution_count": 53,
   "metadata": {},
   "outputs": [],
   "source": [
    "from sklearn.metrics import roc_curve, auc, precision_recall_curve\n",
    "from scipy import interp\n",
    "from sklearn.preprocessing import label_binarize"
   ]
  },
  {
   "cell_type": "markdown",
   "metadata": {},
   "source": [
    "**ROC AUC**"
   ]
  },
  {
   "cell_type": "code",
   "execution_count": 138,
   "metadata": {},
   "outputs": [
    {
     "name": "stderr",
     "output_type": "stream",
     "text": [
      "100%|██████████| 1123/1123 [17:47<00:00,  1.05it/s]\n",
      "/usr/local/lib/python3.5/dist-packages/matplotlib/cbook/deprecation.py:106: MatplotlibDeprecationWarning: Adding an axes using the same arguments as a previous axes currently reuses the earlier instance.  In a future version, a new instance will always be created and returned.  Meanwhile, this warning can be suppressed, and the future behavior ensured, by passing a unique label to each axes instance.\n",
      "  warnings.warn(message, mplDeprecation, stacklevel=1)\n"
     ]
    },
    {
     "data": {
      "image/png": "[encoded data removed]",
      "text/plain": [
       "<matplotlib.figure.Figure at 0x7f9d970142e8>"
      ]
     },
     "metadata": {
      "needs_background": "light"
     },
     "output_type": "display_data"
    }
   ],
   "source": [
    "#tprs = []\n",
    "tprs = dict()\n",
    "base_fpr = np.linspace(0, 1, 101)\n",
    "auc_scores = []\n",
    "file_partition = create_file()\n",
    "plt.figure(figsize=(12, 10))\n",
    "error_files = []\n",
    "classes = range(len(keywords) + 1)\n",
    "fpr, tpr, auc_scores = dict(), dict(), dict()\n",
    "colors = ['darkorange', 'limegreen', 'dodgerblue', 'indigo', 'red', 'dimgray']\n",
    "\n",
    "#test_files[:5] + test_files[-5:] + test_files[100:105] + test_files[415:420]\n",
    "\n",
    "for file in tqdm(test_files, position=0, leave=True):\n",
    "    try:\n",
    "        fs, sentence, y_test = extract_sentence(path2wav_file=file, path2dataset='/aimlx/Datasets/TEDLIUM_release1/',\n",
    "                                                file_partition=file_partition, duration=5, shift=0.01, percentage_kw=1.0)\n",
    "        \n",
    "        keyword = file.split('/')[-2]\n",
    "        idx = keywords.index(keyword)\n",
    "        \n",
    "        y_test = label_binarize(y_test, classes=classes)\n",
    "        frames = compute_mfcc_frames(sentence, fs, shift=0.01, num_features=40)\n",
    "        y_pred = model.predict_proba(frames)\n",
    "\n",
    "        fpr, tpr, _ = roc_curve(y_test[:, idx], y_pred[:, idx])\n",
    "        auc_score = auc(fpr, tpr)\n",
    "        if idx not in auc_scores:\n",
    "            #fpr[idx] = [fpr]\n",
    "            #tpr[idx] = [tpr]\n",
    "            auc_scores[idx] = [auc_score]\n",
    "        else:\n",
    "            #fpr[idx].append(fpr)\n",
    "            #tpr[idx].append(tpr)\n",
    "            auc_scores[idx].append(auc_score)           \n",
    "            \n",
    "        #plt.plot(fpr, tpr, 'darkorange', alpha=0.05)\n",
    "        tpr = interp(base_fpr, fpr, tpr)\n",
    "        tpr[0] = 0.0\n",
    "        if idx not in tprs:\n",
    "            tprs[idx] = [tpr]\n",
    "        else:\n",
    "            tprs[idx].append(tpr)\n",
    "        \n",
    "    except IndexError as error:\n",
    "        error_files.append(file)\n",
    "        \n",
    "for idx in tprs.keys():\n",
    "    tprs[idx] = np.array(tprs[idx])\n",
    "    mean_tprs = tprs[idx].mean(axis=0)\n",
    "    std = tprs[idx].std(axis=0)\n",
    "\n",
    "    tprs_upper = np.minimum(mean_tprs + std, 1)\n",
    "    tprs_lower = mean_tprs - std\n",
    "    plt.plot(base_fpr, mean_tprs, colors[idx], lw=2, label='ROC curve (area = %0.2f) for \\'%s\\'' % (np.mean(np.array(auc_scores[idx])), keywords[idx])) \n",
    "    plt.fill_between(base_fpr, tprs_lower, tprs_upper, color=colors[idx], alpha=0.05)\n",
    "\n",
    "plt.plot([0, 1], [0, 1], color='navy', lw=2, linestyle='--')\n",
    "plt.xlim([0, 1.05])\n",
    "plt.ylim([0, 1.05])\n",
    "plt.title('Mean Receiver operating characteristic')\n",
    "plt.ylabel('True Positive Rate')\n",
    "plt.xlabel('False Positive Rate')\n",
    "plt.legend(loc=\"lower right\")\n",
    "plt.axes().set_aspect('equal', 'datalim')\n",
    "plt.show()"
   ]
  },
  {
   "cell_type": "markdown",
   "metadata": {},
   "source": [
    "**Precision-Recall curve**"
   ]
  },
  {
   "cell_type": "markdown",
   "metadata": {},
   "source": [
    "ROC curves can present an overly optimistic view of an algorithm’s performance if there is a large skew in the class distribution. Precision-Recall (PR) curves, often used in Information Retrieval , have been cited as an alternative to ROC curves for tasks with a large skew in the class distribution."
   ]
  },
  {
   "cell_type": "markdown",
   "metadata": {},
   "source": [
    "Davis and Goadrich in this [paper](http://ftp.cs.wisc.edu/machine-learning/shavlik-group/davis.icml06.pdf) propose that Precision-Recall (PR) curves will be more informative than ROC when dealing with highly skewed datasets. The PR curves plot precision vs. recall (FPR). Because Precision is directly influenced by class imbalance so the Precision-recall curves are better to highlight differences between models for highly imbalanced data sets. When you compare different models with imbalanced settings, the area under the Precision-Recall curve will be more sensitive than the area under the ROC curve"
   ]
  }
 ],
 "metadata": {
  "kernelspec": {
   "display_name": "Python 3",
   "language": "python",
   "name": "python3"
  },
  "language_info": {
   "codemirror_mode": {
    "name": "ipython",
    "version": 3
   },
   "file_extension": ".py",
   "mimetype": "text/x-python",
   "name": "python",
   "nbconvert_exporter": "python",
   "pygments_lexer": "ipython3",
   "version": "3.5.2"
  }
 },
 "nbformat": 4,
 "nbformat_minor": 2
}
