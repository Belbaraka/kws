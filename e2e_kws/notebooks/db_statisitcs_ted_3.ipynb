{
 "cells": [
  {
   "cell_type": "markdown",
   "metadata": {},
   "source": [
    "## Keyword database statistics"
   ]
  },
  {
   "cell_type": "markdown",
   "metadata": {},
   "source": [
    "The keyword databse was extracted from **TEDLIUM third release**. 1000 words were extracted. We describe in this notebook a few characteristics of this database"
   ]
  },
  {
   "cell_type": "code",
   "execution_count": 1,
   "metadata": {},
   "outputs": [],
   "source": [
    "import os\n",
    "import pandas as pd\n",
    "import numpy as np\n",
    "import seaborn as sns\n",
    "from tqdm import tqdm\n",
    "import matplotlib.pyplot as plt\n",
    "import scipy.io.wavfile as wav"
   ]
  },
  {
   "cell_type": "markdown",
   "metadata": {},
   "source": [
    "Load the 1000 words and their absolute path"
   ]
  },
  {
   "cell_type": "code",
   "execution_count": 2,
   "metadata": {},
   "outputs": [],
   "source": [
    "words_1000 = [] \n",
    "with open(os.path.join(os.path.abspath('../'),'1000-midlong'), 'r') as thousand_words:\n",
    "    for word in thousend_words:\n",
    "        words_1000.append(word.strip())"
   ]
  },
  {
   "cell_type": "code",
   "execution_count": 15,
   "metadata": {},
   "outputs": [],
   "source": [
    "path = os.path.abspath(\"../../../Datasets/TEDLIUM_release-3/data/1000_kws_db/\")\n",
    "filenames = []\n",
    "\n",
    "for word in words_1000:\n",
    "    current_path = os.path.join(path, word[0], word) \n",
    "    for _, _, files in os.walk(current_path):\n",
    "        for file in files:\n",
    "            filenames.append(os.path.join(current_path, file))"
   ]
  },
  {
   "cell_type": "code",
   "execution_count": 24,
   "metadata": {},
   "outputs": [
    {
     "data": {
      "text/plain": [
       "1389819"
      ]
     },
     "execution_count": 24,
     "metadata": {},
     "output_type": "execute_result"
    }
   ],
   "source": [
    "len(filenames)"
   ]
  },
  {
   "cell_type": "markdown",
   "metadata": {},
   "source": [
    "#### 1. Keyword samples distribution "
   ]
  },
  {
   "cell_type": "code",
   "execution_count": 16,
   "metadata": {},
   "outputs": [
    {
     "name": "stderr",
     "output_type": "stream",
     "text": [
      "100%|██████████| 1000/1000 [00:07<00:00, 133.84it/s]\n"
     ]
    }
   ],
   "source": [
    "word_less_1000 = {}\n",
    "word_greater_1000 = {}\n",
    "for word in tqdm(words_1000):\n",
    "    current_path = os.path.join(path, word[0], word)\n",
    "    nb_samples = len([file for file in os.listdir(current_path) if file.endswith('.wav') and not file.startswith('.')])\n",
    "    if nb_samples >= 1000:\n",
    "        word_greater_1000[word] = nb_samples\n",
    "    else:\n",
    "        word_less_1000[word] = nb_samples"
   ]
  },
  {
   "cell_type": "code",
   "execution_count": 17,
   "metadata": {},
   "outputs": [
    {
     "data": {
      "image/png": "[encoded data removed]",
      "text/plain": [
       "<matplotlib.figure.Figure at 0x7fb2ff79b1d0>"
      ]
     },
     "metadata": {
      "needs_background": "light"
     },
     "output_type": "display_data"
    }
   ],
   "source": [
    "fig, ax = plt.subplots()\n",
    "fig.set_size_inches(11, 8)\n",
    "ax.set_title('Keywords having less than a thousand samples')\n",
    "ax.set_xlabel('Number of samples')\n",
    "ax.set_ylabel('Number of keywords')\n",
    "ax = sns.distplot(list(word_less_1000.values()), bins=5, kde=False)"
   ]
  },
  {
   "cell_type": "code",
   "execution_count": 18,
   "metadata": {},
   "outputs": [
    {
     "data": {
      "image/png": "[encoded data removed]",
      "text/plain": [
       "<matplotlib.figure.Figure at 0x7fb2f467bbe0>"
      ]
     },
     "metadata": {
      "needs_background": "light"
     },
     "output_type": "display_data"
    }
   ],
   "source": [
    "fig, ax = plt.subplots()\n",
    "fig.set_size_inches(11, 8)\n",
    "ax.set_title('Keywords having more than a thousand samples')\n",
    "ax.set_xlabel('Number of samples')\n",
    "ax.set_ylabel('Number of keywords')\n",
    "ax = sns.distplot(list(word_greater_1000.values()), bins=6, kde=False)"
   ]
  },
  {
   "cell_type": "code",
   "execution_count": 19,
   "metadata": {},
   "outputs": [
    {
     "data": {
      "text/plain": [
       "271"
      ]
     },
     "execution_count": 19,
     "metadata": {},
     "output_type": "execute_result"
    }
   ],
   "source": [
    "len(word_greater_1000)"
   ]
  },
  {
   "cell_type": "markdown",
   "metadata": {},
   "source": [
    "Among the all keywords, **271** of them have more than a thousand samples"
   ]
  },
  {
   "cell_type": "markdown",
   "metadata": {},
   "source": [
    "List of keywords having more than 3000 thousands sampels"
   ]
  },
  {
   "cell_type": "code",
   "execution_count": 20,
   "metadata": {},
   "outputs": [],
   "source": [
    "l_3000 = sorted(list(filter(lambda x: x[1]>1000  , word_greater_1000.items())), key=lambda x: x[1], reverse=True)"
   ]
  },
  {
   "cell_type": "code",
   "execution_count": 21,
   "metadata": {},
   "outputs": [
    {
     "data": {
      "text/plain": [
       "271"
      ]
     },
     "execution_count": 21,
     "metadata": {},
     "output_type": "execute_result"
    }
   ],
   "source": [
    "len(l_3000)"
   ]
  },
  {
   "cell_type": "code",
   "execution_count": 22,
   "metadata": {},
   "outputs": [
    {
     "data": {
      "text/plain": [
       "[('that', 94035),\n",
       " ('this', 47958),\n",
       " ('they', 33345),\n",
       " ('have', 27665),\n",
       " ('what', 26229),\n",
       " ('with', 25255),\n",
       " ('about', 20905),\n",
       " ('there', 18863),\n",
       " ('people', 16409),\n",
       " ('like', 15893),\n",
       " ('from', 15714),\n",
       " ('these', 13985),\n",
       " ('just', 13866),\n",
       " ('when', 13847),\n",
       " ('because', 12648),\n",
       " ('very', 11829),\n",
       " ('more', 11236),\n",
       " ('going', 11102),\n",
       " ('their', 10806),\n",
       " ('them', 10676),\n",
       " ('were', 10646),\n",
       " ('your', 10423),\n",
       " ('would', 10322),\n",
       " ('know', 10131),\n",
       " ('think', 10078),\n",
       " ('which', 9979),\n",
       " ('really', 9543),\n",
       " ('then', 8887),\n",
       " ('some', 8822),\n",
       " ('here', 8485),\n",
       " ('time', 8275),\n",
       " ('into', 8144),\n",
       " ('world', 7988),\n",
       " ('where', 7853),\n",
       " ('will', 7823),\n",
       " ('actually', 7725),\n",
       " ('could', 7568),\n",
       " ('other', 7238),\n",
       " ('things', 7212),\n",
       " ('years', 7173),\n",
       " ('been', 7082),\n",
       " ('want', 6945),\n",
       " ('make', 6909),\n",
       " ('those', 6568),\n",
       " ('first', 6244),\n",
       " ('than', 6219),\n",
       " ('something', 6170),\n",
       " ('well', 5892),\n",
       " ('also', 5812),\n",
       " ('right', 5786),\n",
       " ('even', 5587),\n",
       " ('look', 5585),\n",
       " ('most', 5556),\n",
       " ('over', 5451),\n",
       " ('little', 5353),\n",
       " ('only', 5338),\n",
       " ('said', 5222),\n",
       " ('many', 5218),\n",
       " ('thing', 5161),\n",
       " ('much', 5148),\n",
       " ('back', 5105),\n",
       " ('take', 5010),\n",
       " ('need', 4946),\n",
       " ('three', 4915),\n",
       " ('work', 4881),\n",
       " ('every', 4704),\n",
       " ('life', 4577),\n",
       " ('kind', 4548),\n",
       " ('around', 4475),\n",
       " ('different', 4216),\n",
       " ('good', 4139),\n",
       " ('through', 4137),\n",
       " ('same', 4112),\n",
       " ('being', 4044),\n",
       " ('down', 3917),\n",
       " ('five', 3903),\n",
       " ('come', 3831),\n",
       " ('doing', 3563),\n",
       " ('after', 3332),\n",
       " ('made', 3328),\n",
       " ('year', 3310),\n",
       " ('called', 3289),\n",
       " ('human', 3254),\n",
       " ('tell', 3249),\n",
       " ('find', 3130),\n",
       " ('four', 3108),\n",
       " ('percent', 3098),\n",
       " ('change', 2962),\n",
       " ('fact', 2949),\n",
       " ('talk', 2932),\n",
       " ('today', 2932),\n",
       " ('started', 2904),\n",
       " ('great', 2896),\n",
       " ('never', 2892),\n",
       " ('should', 2883),\n",
       " ('might', 2848),\n",
       " ('last', 2814),\n",
       " ('another', 2801),\n",
       " ('point', 2761),\n",
       " ('before', 2761),\n",
       " ('give', 2734),\n",
       " ('went', 2731),\n",
       " ('able', 2709),\n",
       " ('each', 2670),\n",
       " ('still', 2661),\n",
       " ('better', 2645),\n",
       " ('thought', 2610),\n",
       " ('part', 2568),\n",
       " ('important', 2556),\n",
       " ('next', 2544),\n",
       " ('came', 2499),\n",
       " ('start', 2498),\n",
       " ('does', 2436),\n",
       " ('long', 2418),\n",
       " ('women', 2405),\n",
       " ('together', 2404),\n",
       " ('used', 2402),\n",
       " ('show', 2393),\n",
       " ('problem', 2376),\n",
       " ('course', 2347),\n",
       " ('system', 2310),\n",
       " ('between', 2278),\n",
       " ('story', 2219),\n",
       " ('place', 2217),\n",
       " ('found', 2217),\n",
       " ('again', 2193),\n",
       " ('looking', 2163),\n",
       " ('technology', 2160),\n",
       " ('data', 2144),\n",
       " ('water', 2054),\n",
       " ('love', 2053),\n",
       " ('always', 2026),\n",
       " ('question', 2021),\n",
       " ('ever', 2009),\n",
       " ('mean', 2006),\n",
       " ('example', 2004),\n",
       " ('real', 2002),\n",
       " ('call', 1999),\n",
       " ('whole', 1988),\n",
       " ('working', 1985),\n",
       " ('live', 1966),\n",
       " ('sort', 1963),\n",
       " ('feel', 1948),\n",
       " ('done', 1936),\n",
       " ('school', 1918),\n",
       " ('million', 1916),\n",
       " ('help', 1914),\n",
       " ('using', 1903),\n",
       " ('person', 1889),\n",
       " ('believe', 1870),\n",
       " ('away', 1847),\n",
       " ('everything', 1839),\n",
       " ('number', 1839),\n",
       " ('children', 1838),\n",
       " ('country', 1778),\n",
       " ('means', 1776),\n",
       " ('second', 1755),\n",
       " ('times', 1746),\n",
       " ('small', 1734),\n",
       " ('create', 1715),\n",
       " ('high', 1712),\n",
       " ('information', 1709),\n",
       " ('become', 1704),\n",
       " ('money', 1686),\n",
       " ('kids', 1686),\n",
       " ('social', 1668),\n",
       " ('making', 1652),\n",
       " ('best', 1649),\n",
       " ('space', 1645),\n",
       " ('without', 1644),\n",
       " ('power', 1642),\n",
       " ('getting', 1634),\n",
       " ('less', 1592),\n",
       " ('enough', 1591),\n",
       " ('home', 1581),\n",
       " ('left', 1576),\n",
       " ('design', 1566),\n",
       " ('city', 1501),\n",
       " ('hard', 1493),\n",
       " ('light', 1487),\n",
       " ('such', 1483),\n",
       " ('across', 1481),\n",
       " ('family', 1466),\n",
       " ('building', 1463),\n",
       " ('energy', 1445),\n",
       " ('half', 1444),\n",
       " ('having', 1442),\n",
       " ('while', 1441),\n",
       " ('future', 1432),\n",
       " ('body', 1424),\n",
       " ('science', 1410),\n",
       " ('coming', 1409),\n",
       " ('young', 1405),\n",
       " ('health', 1399),\n",
       " ('asked', 1399),\n",
       " ('food', 1394),\n",
       " ('once', 1391),\n",
       " ('makes', 1387),\n",
       " ('build', 1382),\n",
       " ('anything', 1379),\n",
       " ('countries', 1366),\n",
       " ('living', 1355),\n",
       " ('single', 1349),\n",
       " ('care', 1338),\n",
       " ('seen', 1317),\n",
       " ('later', 1306),\n",
       " ('days', 1306),\n",
       " ('often', 1305),\n",
       " ('stuff', 1303),\n",
       " ('play', 1302),\n",
       " ('side', 1302),\n",
       " ('experience', 1300),\n",
       " ('global', 1297),\n",
       " ('learn', 1295),\n",
       " ('both', 1281),\n",
       " ('someone', 1281),\n",
       " ('simple', 1280),\n",
       " ('remember', 1277),\n",
       " ('already', 1271),\n",
       " ('case', 1267),\n",
       " ('whether', 1265),\n",
       " ('move', 1264),\n",
       " ('inside', 1254),\n",
       " ('room', 1251),\n",
       " ('computer', 1249),\n",
       " ('public', 1246),\n",
       " ('open', 1244),\n",
       " ('nothing', 1243),\n",
       " ('within', 1232),\n",
       " ('else', 1218),\n",
       " ('keep', 1205),\n",
       " ('process', 1201),\n",
       " ('united', 1188),\n",
       " ('community', 1187),\n",
       " ('project', 1172),\n",
       " ('states', 1171),\n",
       " ('problems', 1161),\n",
       " ('picture', 1160),\n",
       " ('sure', 1159),\n",
       " ('hand', 1144),\n",
       " ('says', 1144),\n",
       " ('under', 1140),\n",
       " ('until', 1138),\n",
       " ('business', 1132),\n",
       " ('months', 1121),\n",
       " ('mind', 1114),\n",
       " ('africa', 1106),\n",
       " ('history', 1096),\n",
       " ('face', 1091),\n",
       " ('order', 1087),\n",
       " ('since', 1086),\n",
       " ('ideas', 1084),\n",
       " ('government', 1084),\n",
       " ('group', 1080),\n",
       " ('possible', 1075),\n",
       " ('words', 1073),\n",
       " ('child', 1072),\n",
       " ('middle', 1052),\n",
       " ('read', 1050),\n",
       " ('research', 1048),\n",
       " ('though', 1031),\n",
       " ('turn', 1030),\n",
       " ('control', 1023),\n",
       " ('taking', 1021),\n",
       " ('share', 1020),\n",
       " ('hope', 1020),\n",
       " ('book', 1020),\n",
       " ('woman', 1018),\n",
       " ('true', 1015),\n",
       " ('black', 1011),\n",
       " ('against', 1002)]"
      ]
     },
     "execution_count": 22,
     "metadata": {},
     "output_type": "execute_result"
    }
   ],
   "source": [
    "l_3000"
   ]
  },
  {
   "cell_type": "markdown",
   "metadata": {},
   "source": [
    "#### 2. Keyword length distribution"
   ]
  },
  {
   "cell_type": "code",
   "execution_count": 23,
   "metadata": {},
   "outputs": [
    {
     "name": "stderr",
     "output_type": "stream",
     "text": [
      "100%|██████████| 1389819/1389819 [07:28<00:00, 3101.58it/s]\n"
     ]
    }
   ],
   "source": [
    "word_durations = []\n",
    "\n",
    "for file in tqdm(filenames):\n",
    "    fs, sig = wav.read(file)\n",
    "    duration = float(len(sig)) / fs\n",
    "    word_durations.append(duration)"
   ]
  },
  {
   "cell_type": "code",
   "execution_count": 14,
   "metadata": {},
   "outputs": [],
   "source": [
    "word_dur_less_1 = list(filter(lambda x: x<=1.0, word_durations))\n",
    "word_dur_greater_1 = list(filter(lambda x: x>1.0, word_durations))"
   ]
  },
  {
   "cell_type": "code",
   "execution_count": 17,
   "metadata": {},
   "outputs": [
    {
     "data": {
      "image/png": "[encoded data removed]",
      "text/plain": [
       "<matplotlib.figure.Figure at 0x7fe4f85370f0>"
      ]
     },
     "metadata": {
      "needs_background": "light"
     },
     "output_type": "display_data"
    }
   ],
   "source": [
    "fig, ax = plt.subplots()\n",
    "fig.set_size_inches(11, 8)\n",
    "ax.set_title('Keywords with a duration of less than 1 second')\n",
    "ax.set_xlabel('Duration')\n",
    "ax.set_ylabel('Number of keywords')\n",
    "ax = sns.distplot(word_dur_less_1, bins= 5, kde=False)"
   ]
  },
  {
   "cell_type": "code",
   "execution_count": 18,
   "metadata": {},
   "outputs": [
    {
     "data": {
      "text/plain": [
       "3"
      ]
     },
     "execution_count": 18,
     "metadata": {},
     "output_type": "execute_result"
    }
   ],
   "source": [
    "len(word_dur_greater_1)"
   ]
  },
  {
   "cell_type": "code",
   "execution_count": 19,
   "metadata": {},
   "outputs": [
    {
     "data": {
      "text/plain": [
       "0"
      ]
     },
     "execution_count": 19,
     "metadata": {},
     "output_type": "execute_result"
    }
   ],
   "source": [
    "len(list(filter(lambda x: x<=0.6, word_durations)))"
   ]
  },
  {
   "cell_type": "code",
   "execution_count": 20,
   "metadata": {},
   "outputs": [
    {
     "data": {
      "text/plain": [
       "7.195181530832431e-05"
      ]
     },
     "execution_count": 20,
     "metadata": {},
     "output_type": "execute_result"
    }
   ],
   "source": [
    "(len(word_dur_greater_1) / len(word_durations)) * 100"
   ]
  },
  {
   "cell_type": "markdown",
   "metadata": {},
   "source": [
    "Out of the 4169457 audio samples only 115 of them (**~ 0.027%**) have a duration of more than 1 second"
   ]
  },
  {
   "cell_type": "code",
   "execution_count": 22,
   "metadata": {},
   "outputs": [
    {
     "data": {
      "text/plain": [
       "0.9999999999550301"
      ]
     },
     "execution_count": 22,
     "metadata": {},
     "output_type": "execute_result"
    }
   ],
   "source": [
    "np.mean(word_dur_less_1)"
   ]
  },
  {
   "cell_type": "markdown",
   "metadata": {},
   "source": [
    "The mean duration of an audio samples is **283.3 milliseconds**"
   ]
  },
  {
   "cell_type": "markdown",
   "metadata": {},
   "source": [
    "#### 3. Number of phonemes per keyword"
   ]
  },
  {
   "cell_type": "code",
   "execution_count": 16,
   "metadata": {},
   "outputs": [],
   "source": [
    "import nltk\n",
    "arpabet = nltk.corpus.cmudict.dict()"
   ]
  },
  {
   "cell_type": "code",
   "execution_count": 17,
   "metadata": {},
   "outputs": [
    {
     "name": "stderr",
     "output_type": "stream",
     "text": [
      "100%|██████████| 1000/1000 [00:00<00:00, 157983.50it/s]"
     ]
    },
    {
     "name": "stdout",
     "output_type": "stream",
     "text": [
      "blog\n",
      "login\n",
      "html\n",
      "pics\n",
      "homepage\n"
     ]
    },
    {
     "name": "stderr",
     "output_type": "stream",
     "text": [
      "\n"
     ]
    }
   ],
   "source": [
    "word_phonemes_len = {}\n",
    "for word in tqdm(words_1000):\n",
    "    try:\n",
    "        phonemes = arpabet[word][0]\n",
    "        word_phonemes_len[word] = len(phonemes)\n",
    "    except:\n",
    "        print(word)"
   ]
  },
  {
   "cell_type": "code",
   "execution_count": 18,
   "metadata": {},
   "outputs": [
    {
     "data": {
      "image/png": "[encoded data removed]",
      "text/plain": [
       "<matplotlib.figure.Figure at 0x7fe06f1aa2e8>"
      ]
     },
     "metadata": {
      "needs_background": "light"
     },
     "output_type": "display_data"
    }
   ],
   "source": [
    "fig, ax = plt.subplots()\n",
    "fig.set_size_inches(11, 8)\n",
    "ax.set_title('Number of phonemes per keyword')\n",
    "ax.set_xlabel('Number of phonemes')\n",
    "ax.set_ylabel('Number of keywords')\n",
    "ax = sns.distplot(list(word_phonemes_len.values()),bins=12, kde=False)"
   ]
  },
  {
   "cell_type": "code",
   "execution_count": 19,
   "metadata": {},
   "outputs": [
    {
     "data": {
      "text/plain": [
       "5.123618090452261"
      ]
     },
     "execution_count": 19,
     "metadata": {},
     "output_type": "execute_result"
    }
   ],
   "source": [
    "np.mean(list(word_phonemes_len.values()))"
   ]
  },
  {
   "cell_type": "markdown",
   "metadata": {},
   "source": [
    "On average the keywords in the database have **5 phonemes**"
   ]
  },
  {
   "cell_type": "code",
   "execution_count": 21,
   "metadata": {},
   "outputs": [
    {
     "data": {
      "text/plain": [
       "[('course', 852),\n",
       " ('started', 865),\n",
       " ('thought', 874),\n",
       " ('went', 876),\n",
       " ('tell', 879),\n",
       " ('should', 887),\n",
       " ('find', 893),\n",
       " ('sort', 901),\n",
       " ('after', 906),\n",
       " ('change', 907),\n",
       " ('today', 937),\n",
       " ('point', 938),\n",
       " ('percent', 946),\n",
       " ('fact', 955),\n",
       " ('another', 959),\n",
       " ('last', 985)]"
      ]
     },
     "execution_count": 21,
     "metadata": {},
     "output_type": "execute_result"
    }
   ],
   "source": [
    "sorted(list(filter(lambda x: x[1]>850 , word_less_1000.items())), key=lambda x: x[1])"
   ]
  },
  {
   "cell_type": "code",
   "execution_count": 25,
   "metadata": {},
   "outputs": [
    {
     "data": {
      "text/plain": [
       "['W', 'ER1', 'L', 'D']"
      ]
     },
     "execution_count": 25,
     "metadata": {},
     "output_type": "execute_result"
    }
   ],
   "source": [
    "arpabet['world'][0]"
   ]
  },
  {
   "cell_type": "code",
   "execution_count": 26,
   "metadata": {},
   "outputs": [
    {
     "data": {
      "text/plain": [
       "['P', 'IY1', 'P', 'AH0', 'L']"
      ]
     },
     "execution_count": 26,
     "metadata": {},
     "output_type": "execute_result"
    }
   ],
   "source": [
    "arpabet['people'][0]"
   ]
  },
  {
   "cell_type": "code",
   "execution_count": null,
   "metadata": {},
   "outputs": [],
   "source": []
  }
 ],
 "metadata": {
  "kernelspec": {
   "display_name": "Python 3",
   "language": "python",
   "name": "python3"
  },
  "language_info": {
   "codemirror_mode": {
    "name": "ipython",
    "version": 3
   },
   "file_extension": ".py",
   "mimetype": "text/x-python",
   "name": "python",
   "nbconvert_exporter": "python",
   "pygments_lexer": "ipython3",
   "version": "3.5.2"
  }
 },
 "nbformat": 4,
 "nbformat_minor": 2
}
