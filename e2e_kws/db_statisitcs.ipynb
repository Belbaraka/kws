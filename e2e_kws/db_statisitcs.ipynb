{
 "cells": [
  {
   "cell_type": "markdown",
   "metadata": {},
   "source": [
    "## Keyword database statistics"
   ]
  },
  {
   "cell_type": "markdown",
   "metadata": {},
   "source": [
    "The keyword databse was extracted from **TEDLIUM first release**. 1000 words were extracted. We describe in this notebook a few characteristics of this database"
   ]
  },
  {
   "cell_type": "code",
   "execution_count": 1,
   "metadata": {},
   "outputs": [],
   "source": [
    "import os\n",
    "import pandas as pd\n",
    "import numpy as np\n",
    "import seaborn as sns\n",
    "from tqdm import tqdm\n",
    "import matplotlib.pyplot as plt\n",
    "import scipy.io.wavfile as wav"
   ]
  },
  {
   "cell_type": "markdown",
   "metadata": {},
   "source": [
    "Load the 1000 words and their absolute path"
   ]
  },
  {
   "cell_type": "code",
   "execution_count": 2,
   "metadata": {},
   "outputs": [],
   "source": [
    "words_1000 = [] \n",
    "with open('1000-midlong', 'r') as thousend_words:\n",
    "    for word in thousend_words:\n",
    "        words_1000.append(word.strip())"
   ]
  },
  {
   "cell_type": "code",
   "execution_count": 3,
   "metadata": {},
   "outputs": [],
   "source": [
    "path = os.path.abspath(\"../../Datasets/TEDLIUM_release1/idiap_kw_db/\")\n",
    "filenames = []\n",
    "\n",
    "for word in words_1000:\n",
    "    current_path = os.path.join(path, word[0], word) \n",
    "    for _, _, files in os.walk(current_path):\n",
    "        for file in files:\n",
    "            filenames.append(os.path.join(current_path, file))"
   ]
  },
  {
   "cell_type": "markdown",
   "metadata": {},
   "source": [
    "#### 1. Keyword samples distribution "
   ]
  },
  {
   "cell_type": "code",
   "execution_count": 4,
   "metadata": {},
   "outputs": [
    {
     "name": "stderr",
     "output_type": "stream",
     "text": [
      "100%|██████████| 1000/1000 [00:00<00:00, 1945.49it/s]\n"
     ]
    }
   ],
   "source": [
    "word_less_1000 = {}\n",
    "word_greater_1000 = {}\n",
    "for word in tqdm(words_1000):\n",
    "    current_path = os.path.join(path, word[0], word)\n",
    "    nb_samples = len([file for file in os.listdir(current_path) if file.endswith('.wav') and not file.startswith('.')])\n",
    "    if nb_samples >= 1000:\n",
    "        word_greater_1000[word] = nb_samples\n",
    "    else:\n",
    "        word_less_1000[word] = nb_samples"
   ]
  },
  {
   "cell_type": "code",
   "execution_count": 5,
   "metadata": {},
   "outputs": [
    {
     "data": {
      "image/png": "[encoded data removed]",
      "text/plain": [
       "<matplotlib.figure.Figure at 0x7fe0487ec748>"
      ]
     },
     "metadata": {
      "needs_background": "light"
     },
     "output_type": "display_data"
    }
   ],
   "source": [
    "fig, ax = plt.subplots()\n",
    "fig.set_size_inches(11, 8)\n",
    "ax.set_title('Keywords having less than a thousand samples')\n",
    "ax.set_xlabel('Number of samples')\n",
    "ax.set_ylabel('Number of keywords')\n",
    "ax = sns.distplot(list(word_less_1000.values()), bins=5, kde=False)"
   ]
  },
  {
   "cell_type": "code",
   "execution_count": 6,
   "metadata": {},
   "outputs": [
    {
     "data": {
      "image/png": "[encoded data removed]",
      "text/plain": [
       "<matplotlib.figure.Figure at 0x7fe04538df60>"
      ]
     },
     "metadata": {
      "needs_background": "light"
     },
     "output_type": "display_data"
    }
   ],
   "source": [
    "fig, ax = plt.subplots()\n",
    "fig.set_size_inches(11, 8)\n",
    "ax.set_title('Keywords having more than a thousand samples')\n",
    "ax.set_xlabel('Number of samples')\n",
    "ax.set_ylabel('Number of keywords')\n",
    "ax = sns.distplot(list(word_greater_1000.values()), bins=6, kde=False)"
   ]
  },
  {
   "cell_type": "code",
   "execution_count": 7,
   "metadata": {},
   "outputs": [
    {
     "data": {
      "text/plain": [
       "85"
      ]
     },
     "execution_count": 7,
     "metadata": {},
     "output_type": "execute_result"
    }
   ],
   "source": [
    "len(word_greater_1000)"
   ]
  },
  {
   "cell_type": "markdown",
   "metadata": {},
   "source": [
    "Among the all keywords, only **85** of them have more than a thousand samples"
   ]
  },
  {
   "cell_type": "markdown",
   "metadata": {},
   "source": [
    "List of keywords having more than 3000 thousands sampels"
   ]
  },
  {
   "cell_type": "code",
   "execution_count": 8,
   "metadata": {},
   "outputs": [
    {
     "data": {
      "text/plain": [
       "[('then', 3008),\n",
       " ('would', 3035),\n",
       " ('world', 3050),\n",
       " ('more', 3104),\n",
       " ('really', 3334),\n",
       " ('here', 3397),\n",
       " ('them', 3502),\n",
       " ('going', 3534),\n",
       " ('think', 3569),\n",
       " ('which', 3587),\n",
       " ('when', 3872),\n",
       " ('because', 4058),\n",
       " ('very', 4280),\n",
       " ('just', 4326),\n",
       " ('know', 4402),\n",
       " ('these', 4556),\n",
       " ('from', 4781),\n",
       " ('like', 4930),\n",
       " ('people', 5102),\n",
       " ('there', 5112),\n",
       " ('about', 7035),\n",
       " ('with', 7531),\n",
       " ('what', 7720),\n",
       " ('they', 8420),\n",
       " ('have', 8718),\n",
       " ('this', 16488),\n",
       " ('that', 26787)]"
      ]
     },
     "execution_count": 8,
     "metadata": {},
     "output_type": "execute_result"
    }
   ],
   "source": [
    "sorted(list(filter(lambda x: x[1]>3000 , word_greater_1000.items())), key=lambda x: x[1])"
   ]
  },
  {
   "cell_type": "markdown",
   "metadata": {},
   "source": [
    "#### 2. Keyword length distribution"
   ]
  },
  {
   "cell_type": "code",
   "execution_count": 9,
   "metadata": {},
   "outputs": [
    {
     "name": "stderr",
     "output_type": "stream",
     "text": [
      "100%|██████████| 437484/437484 [00:59<00:00, 7378.85it/s]\n"
     ]
    }
   ],
   "source": [
    "word_durations = []\n",
    "\n",
    "for file in tqdm(filenames):\n",
    "    fs, sig = wav.read(file)\n",
    "    duration = float(len(sig)) / fs\n",
    "    word_durations.append(duration)"
   ]
  },
  {
   "cell_type": "code",
   "execution_count": 10,
   "metadata": {},
   "outputs": [],
   "source": [
    "word_dur_less_1 = list(filter(lambda x: x<=1.0, word_durations))\n",
    "word_dur_greater_1 = list(filter(lambda x: x>1.0, word_durations))"
   ]
  },
  {
   "cell_type": "code",
   "execution_count": 11,
   "metadata": {},
   "outputs": [
    {
     "data": {
      "image/png": "[encoded data removed]",
      "text/plain": [
       "<matplotlib.figure.Figure at 0x7fe04529ffd0>"
      ]
     },
     "metadata": {
      "needs_background": "light"
     },
     "output_type": "display_data"
    }
   ],
   "source": [
    "fig, ax = plt.subplots()\n",
    "fig.set_size_inches(11, 8)\n",
    "ax.set_title('Keywords with a duration of less than 1 second')\n",
    "ax.set_xlabel('Duration')\n",
    "ax.set_ylabel('Number of keywords')\n",
    "ax = sns.distplot(word_dur_less_1, bins= 11, kde=False)"
   ]
  },
  {
   "cell_type": "code",
   "execution_count": 12,
   "metadata": {},
   "outputs": [
    {
     "data": {
      "text/plain": [
       "115"
      ]
     },
     "execution_count": 12,
     "metadata": {},
     "output_type": "execute_result"
    }
   ],
   "source": [
    "len(word_dur_greater_1)"
   ]
  },
  {
   "cell_type": "code",
   "execution_count": 13,
   "metadata": {},
   "outputs": [
    {
     "data": {
      "text/plain": [
       "423342"
      ]
     },
     "execution_count": 13,
     "metadata": {},
     "output_type": "execute_result"
    }
   ],
   "source": [
    "len(list(filter(lambda x: x<=0.6, word_durations)))"
   ]
  },
  {
   "cell_type": "code",
   "execution_count": 14,
   "metadata": {},
   "outputs": [
    {
     "data": {
      "text/plain": [
       "0.026286675626994358"
      ]
     },
     "execution_count": 14,
     "metadata": {},
     "output_type": "execute_result"
    }
   ],
   "source": [
    "(len(word_dur_greater_1) / len(word_durations)) * 100"
   ]
  },
  {
   "cell_type": "markdown",
   "metadata": {},
   "source": [
    "Out of the 437484 audio samples only 115 of them (**~ 0.027%**) have a duration of more than 1 second"
   ]
  },
  {
   "cell_type": "code",
   "execution_count": 15,
   "metadata": {},
   "outputs": [
    {
     "data": {
      "text/plain": [
       "0.28325662626980874"
      ]
     },
     "execution_count": 15,
     "metadata": {},
     "output_type": "execute_result"
    }
   ],
   "source": [
    "np.mean(word_dur_less_1)"
   ]
  },
  {
   "cell_type": "markdown",
   "metadata": {},
   "source": [
    "The mean duration of an audio samples is **283.3 milliseconds**"
   ]
  },
  {
   "cell_type": "markdown",
   "metadata": {},
   "source": [
    "#### 3. Number of phonemes per keyword"
   ]
  },
  {
   "cell_type": "code",
   "execution_count": 16,
   "metadata": {},
   "outputs": [],
   "source": [
    "import nltk\n",
    "arpabet = nltk.corpus.cmudict.dict()"
   ]
  },
  {
   "cell_type": "code",
   "execution_count": 17,
   "metadata": {},
   "outputs": [
    {
     "name": "stderr",
     "output_type": "stream",
     "text": [
      "100%|██████████| 1000/1000 [00:00<00:00, 157983.50it/s]"
     ]
    },
    {
     "name": "stdout",
     "output_type": "stream",
     "text": [
      "blog\n",
      "login\n",
      "html\n",
      "pics\n",
      "homepage\n"
     ]
    },
    {
     "name": "stderr",
     "output_type": "stream",
     "text": [
      "\n"
     ]
    }
   ],
   "source": [
    "word_phonemes_len = {}\n",
    "for word in tqdm(words_1000):\n",
    "    try:\n",
    "        phonemes = arpabet[word][0]\n",
    "        word_phonemes_len[word] = len(phonemes)\n",
    "    except:\n",
    "        print(word)"
   ]
  },
  {
   "cell_type": "code",
   "execution_count": 18,
   "metadata": {},
   "outputs": [
    {
     "data": {
      "image/png": "[encoded data removed]",
      "text/plain": [
       "<matplotlib.figure.Figure at 0x7fe06f1aa2e8>"
      ]
     },
     "metadata": {
      "needs_background": "light"
     },
     "output_type": "display_data"
    }
   ],
   "source": [
    "fig, ax = plt.subplots()\n",
    "fig.set_size_inches(11, 8)\n",
    "ax.set_title('Number of phonemes per keyword')\n",
    "ax.set_xlabel('Number of phonemes')\n",
    "ax.set_ylabel('Number of keywords')\n",
    "ax = sns.distplot(list(word_phonemes_len.values()),bins=12, kde=False)"
   ]
  },
  {
   "cell_type": "code",
   "execution_count": 19,
   "metadata": {},
   "outputs": [
    {
     "data": {
      "text/plain": [
       "5.123618090452261"
      ]
     },
     "execution_count": 19,
     "metadata": {},
     "output_type": "execute_result"
    }
   ],
   "source": [
    "np.mean(list(word_phonemes_len.values()))"
   ]
  },
  {
   "cell_type": "markdown",
   "metadata": {},
   "source": [
    "On average the keywords in the database have **5 phonemes**"
   ]
  },
  {
   "cell_type": "code",
   "execution_count": 21,
   "metadata": {},
   "outputs": [
    {
     "data": {
      "text/plain": [
       "[('course', 852),\n",
       " ('started', 865),\n",
       " ('thought', 874),\n",
       " ('went', 876),\n",
       " ('tell', 879),\n",
       " ('should', 887),\n",
       " ('find', 893),\n",
       " ('sort', 901),\n",
       " ('after', 906),\n",
       " ('change', 907),\n",
       " ('today', 937),\n",
       " ('point', 938),\n",
       " ('percent', 946),\n",
       " ('fact', 955),\n",
       " ('another', 959),\n",
       " ('last', 985)]"
      ]
     },
     "execution_count": 21,
     "metadata": {},
     "output_type": "execute_result"
    }
   ],
   "source": [
    "sorted(list(filter(lambda x: x[1]>850 , word_less_1000.items())), key=lambda x: x[1])"
   ]
  },
  {
   "cell_type": "code",
   "execution_count": 25,
   "metadata": {},
   "outputs": [
    {
     "data": {
      "text/plain": [
       "['W', 'ER1', 'L', 'D']"
      ]
     },
     "execution_count": 25,
     "metadata": {},
     "output_type": "execute_result"
    }
   ],
   "source": [
    "arpabet['world'][0]"
   ]
  },
  {
   "cell_type": "code",
   "execution_count": 26,
   "metadata": {},
   "outputs": [
    {
     "data": {
      "text/plain": [
       "['P', 'IY1', 'P', 'AH0', 'L']"
      ]
     },
     "execution_count": 26,
     "metadata": {},
     "output_type": "execute_result"
    }
   ],
   "source": [
    "arpabet['people'][0]"
   ]
  },
  {
   "cell_type": "code",
   "execution_count": null,
   "metadata": {},
   "outputs": [],
   "source": []
  }
 ],
 "metadata": {
  "kernelspec": {
   "display_name": "Python 3",
   "language": "python",
   "name": "python3"
  },
  "language_info": {
   "codemirror_mode": {
    "name": "ipython",
    "version": 3
   },
   "file_extension": ".py",
   "mimetype": "text/x-python",
   "name": "python",
   "nbconvert_exporter": "python",
   "pygments_lexer": "ipython3",
   "version": "3.5.2"
  }
 },
 "nbformat": 4,
 "nbformat_minor": 2
}
