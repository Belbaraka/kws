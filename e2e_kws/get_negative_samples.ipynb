{
 "cells": [
  {
   "cell_type": "code",
   "execution_count": 1,
   "metadata": {},
   "outputs": [],
   "source": [
    "import os\n",
    "import numpy as np\n",
    "import random\n",
    "import scipy.io.wavfile as wav\n",
    "from python_speech_features import mfcc\n",
    "from tqdm import tqdm"
   ]
  },
  {
   "cell_type": "markdown",
   "metadata": {},
   "source": [
    "Define list of keywords"
   ]
  },
  {
   "cell_type": "code",
   "execution_count": 2,
   "metadata": {},
   "outputs": [],
   "source": [
    "keywords = ['up', 'down', 'left', 'right']"
   ]
  },
  {
   "cell_type": "markdown",
   "metadata": {},
   "source": [
    "Get filenames of audio to be used for negative samples"
   ]
  },
  {
   "cell_type": "code",
   "execution_count": 3,
   "metadata": {},
   "outputs": [],
   "source": [
    "path = os.path.abspath(\"Datasets/TEDLIUM_release1/train/wav/\")\n",
    "filenames = []\n",
    "\n",
    "for _, _, files in os.walk(path):\n",
    "    for file in files:\n",
    "        filenames.append(os.path.join(path, file))"
   ]
  },
  {
   "cell_type": "markdown",
   "metadata": {},
   "source": [
    "Define some helper functions"
   ]
  },
  {
   "cell_type": "code",
   "execution_count": 4,
   "metadata": {},
   "outputs": [],
   "source": [
    "def compute_mfcc(signal, num_features=40, min_window_size=98): \n",
    "\n",
    "    features = mfcc(signal, samplerate=16000, winlen=0.030, winstep=0.01, numcep=num_features, \n",
    "                         lowfreq=20, highfreq=4000, appendEnergy=False, nfilt=num_features)\n",
    "    if features.shape[0] <= min_window_size:\n",
    "        nb_samples = min_window_size - features.shape[0]\n",
    "        features = np.concatenate((np.zeros((nb_samples, num_features)), features), axis=0)    \n",
    "    \n",
    "    return features\n",
    "\n",
    "def extract_frames(features, shift=5, max_frames=20, frame_length=98, n_mffc=40):\n",
    "    frames = []\n",
    "    window_size = features.shape[0]\n",
    "    enough_samples = True\n",
    "    current_index = 0\n",
    "    \n",
    "    while enough_samples:\n",
    "        if current_index + frame_length < window_size:\n",
    "            frames.append(features[current_index: current_index + frame_length, :])\n",
    "            current_index += shift\n",
    "        else:\n",
    "            frames.append(features[-frame_length:,:])\n",
    "            enough_samples = False\n",
    "    if len(frames) > max_frames:\n",
    "        frames = random.sample(frames, k=max_frames)\n",
    "        \n",
    "    return frames\n",
    "    "
   ]
  },
  {
   "cell_type": "markdown",
   "metadata": {},
   "source": [
    "Define function that generates negative samples for model to train on"
   ]
  },
  {
   "cell_type": "code",
   "execution_count": 5,
   "metadata": {},
   "outputs": [],
   "source": [
    "def generate_negative_samples(filenames, keywords, n_files=30, n_sentences=10, max_frames=20, shift=1, frame_shape=(98, 40)):\n",
    "    \n",
    "    sampled_filenames = random.sample(filenames, k=n_files)\n",
    "    negative_samples = []\n",
    "    \n",
    "    for file in tqdm(sampled_filenames):\n",
    "        \n",
    "        windows = [] # list of tuples which indicates the begining and end of each sentence in the wav file\n",
    "        fs, signal = wav.read(file)\n",
    "        \n",
    "        # Check that none of the keywords are present within the sentences collected\n",
    "        with open(file.replace('wav', 'stm'), 'rt') as f:\n",
    "            records = f.readlines()\n",
    "            if n_sentences > len(records):\n",
    "                sampled_sentences = records\n",
    "            else:\n",
    "                sampled_sentences = random.sample(records, k=n_sentences)\n",
    "            for sentence in sampled_sentences:\n",
    "                fields = sentence.split()\n",
    "                label = fields[6:]\n",
    "                if not any(kw in label for kw in keywords):\n",
    "                    start, end = float(fields[3]), float(fields[4])\n",
    "                    windows.append((start, end))\n",
    "        \n",
    "        # Compute 20 frames for each sentence\n",
    "        for window in windows:\n",
    "            start = int(window[0] * fs)\n",
    "            end = int(window[1] * fs)\n",
    "            if end > len(signal):\n",
    "                end = len(signal)\n",
    "                \n",
    "            mfcc_features = compute_mfcc(signal[start:end], num_features=frame_shape[1])\n",
    "            frames = extract_frames(mfcc_features, shift=shift, max_frames=max_frames, frame_length=frame_shape[0], n_mffc=frame_shape[1])\n",
    "                \n",
    "            negative_samples.extend(frames)    \n",
    "                \n",
    "    return negative_samples"
   ]
  },
  {
   "cell_type": "code",
   "execution_count": 6,
   "metadata": {},
   "outputs": [
    {
     "name": "stderr",
     "output_type": "stream",
     "text": [
      "100%|██████████| 100/100 [00:21<00:00,  4.73it/s]\n"
     ]
    }
   ],
   "source": [
    "negative_samples = generate_negative_samples(filenames, keywords, n_files=100, n_sentences=10, max_frames=60, shift=1, frame_shape=(98, 40))"
   ]
  },
  {
   "cell_type": "code",
   "execution_count": 8,
   "metadata": {},
   "outputs": [
    {
     "data": {
      "text/plain": [
       "False"
      ]
     },
     "execution_count": 8,
     "metadata": {},
     "output_type": "execute_result"
    }
   ],
   "source": [
    "any(s.shape[0] != 98 for s in negative_samples)"
   ]
  },
  {
   "cell_type": "code",
   "execution_count": 9,
   "metadata": {},
   "outputs": [
    {
     "data": {
      "text/plain": [
       "49153"
      ]
     },
     "execution_count": 9,
     "metadata": {},
     "output_type": "execute_result"
    }
   ],
   "source": [
    "len(negative_samples)"
   ]
  },
  {
   "cell_type": "code",
   "execution_count": 10,
   "metadata": {},
   "outputs": [],
   "source": [
    "def save_negative_samples(neg_samples, folder_name, path):\n",
    "    \n",
    "    if not os.path.exists(os.path.join(path, folder_name)):\n",
    "        path2neg_samples = os.path.join(path, folder_name)\n",
    "        os.mkdir(path2neg_samples)\n",
    "    \n",
    "    for i, sample in enumerate(neg_samples):\n",
    "        filename = 'neg_frame_' + str(i)\n",
    "        np.save(os.path.join(path2neg_samples, filename), sample, allow_pickle=False)\n",
    "    "
   ]
  },
  {
   "cell_type": "code",
   "execution_count": 11,
   "metadata": {},
   "outputs": [],
   "source": [
    "save_negative_samples(negative_samples, folder_name='negative_samples', path='/aimlx/Datasets/' )"
   ]
  },
  {
   "cell_type": "code",
   "execution_count": null,
   "metadata": {},
   "outputs": [],
   "source": []
  }
 ],
 "metadata": {
  "kernelspec": {
   "display_name": "Python 3",
   "language": "python",
   "name": "python3"
  },
  "language_info": {
   "codemirror_mode": {
    "name": "ipython",
    "version": 3
   },
   "file_extension": ".py",
   "mimetype": "text/x-python",
   "name": "python",
   "nbconvert_exporter": "python",
   "pygments_lexer": "ipython3",
   "version": "3.5.2"
  }
 },
 "nbformat": 4,
 "nbformat_minor": 2
}
