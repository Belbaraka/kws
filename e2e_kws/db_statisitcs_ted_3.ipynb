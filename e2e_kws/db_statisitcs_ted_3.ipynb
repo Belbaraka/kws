{
 "cells": [
  {
   "cell_type": "markdown",
   "metadata": {},
   "source": [
    "## Keyword database statistics"
   ]
  },
  {
   "cell_type": "markdown",
   "metadata": {},
   "source": [
    "The keyword databse was extracted from **TEDLIUM third release**. 1000 words were extracted. We describe in this notebook a few characteristics of this database"
   ]
  },
  {
   "cell_type": "code",
   "execution_count": 1,
   "metadata": {},
   "outputs": [],
   "source": [
    "import os\n",
    "import pandas as pd\n",
    "import numpy as np\n",
    "import seaborn as sns\n",
    "from tqdm import tqdm\n",
    "import matplotlib.pyplot as plt\n",
    "import scipy.io.wavfile as wav"
   ]
  },
  {
   "cell_type": "markdown",
   "metadata": {},
   "source": [
    "Load the 1000 words and their absolute path"
   ]
  },
  {
   "cell_type": "code",
   "execution_count": 2,
   "metadata": {},
   "outputs": [],
   "source": [
    "words_1000 = [] \n",
    "with open('1000-midlong', 'r') as thousend_words:\n",
    "    for word in thousend_words:\n",
    "        words_1000.append(word.strip())"
   ]
  },
  {
   "cell_type": "code",
   "execution_count": 3,
   "metadata": {},
   "outputs": [],
   "source": [
    "path = os.path.abspath(\"../../Datasets/TEDLIUM_release-3/data/1000_kws_db/\")\n",
    "filenames = []\n",
    "\n",
    "for word in words_1000:\n",
    "    current_path = os.path.join(path, word[0], word) \n",
    "    for _, _, files in os.walk(current_path):\n",
    "        for file in files:\n",
    "            filenames.append(os.path.join(current_path, file))"
   ]
  },
  {
   "cell_type": "markdown",
   "metadata": {},
   "source": [
    "#### 1. Keyword samples distribution "
   ]
  },
  {
   "cell_type": "code",
   "execution_count": 4,
   "metadata": {},
   "outputs": [
    {
     "name": "stderr",
     "output_type": "stream",
     "text": [
      "100%|██████████| 1000/1000 [00:04<00:00, 224.63it/s]\n"
     ]
    }
   ],
   "source": [
    "word_less_1000 = {}\n",
    "word_greater_1000 = {}\n",
    "for word in tqdm(words_1000):\n",
    "    current_path = os.path.join(path, word[0], word)\n",
    "    nb_samples = len([file for file in os.listdir(current_path) if file.endswith('.wav') and not file.startswith('.')])\n",
    "    if nb_samples >= 1000:\n",
    "        word_greater_1000[word] = nb_samples\n",
    "    else:\n",
    "        word_less_1000[word] = nb_samples"
   ]
  },
  {
   "cell_type": "code",
   "execution_count": 5,
   "metadata": {},
   "outputs": [
    {
     "data": {
      "image/png": "[encoded data removed]",
      "text/plain": [
       "<matplotlib.figure.Figure at 0x7fe509cb2780>"
      ]
     },
     "metadata": {
      "needs_background": "light"
     },
     "output_type": "display_data"
    }
   ],
   "source": [
    "fig, ax = plt.subplots()\n",
    "fig.set_size_inches(11, 8)\n",
    "ax.set_title('Keywords having less than a thousand samples')\n",
    "ax.set_xlabel('Number of samples')\n",
    "ax.set_ylabel('Number of keywords')\n",
    "ax = sns.distplot(list(word_less_1000.values()), bins=5, kde=False)"
   ]
  },
  {
   "cell_type": "code",
   "execution_count": 6,
   "metadata": {},
   "outputs": [
    {
     "data": {
      "image/png": "[encoded data removed]",
      "text/plain": [
       "<matplotlib.figure.Figure at 0x7fe5091505f8>"
      ]
     },
     "metadata": {
      "needs_background": "light"
     },
     "output_type": "display_data"
    }
   ],
   "source": [
    "fig, ax = plt.subplots()\n",
    "fig.set_size_inches(11, 8)\n",
    "ax.set_title('Keywords having more than a thousand samples')\n",
    "ax.set_xlabel('Number of samples')\n",
    "ax.set_ylabel('Number of keywords')\n",
    "ax = sns.distplot(list(word_greater_1000.values()), bins=6, kde=False)"
   ]
  },
  {
   "cell_type": "code",
   "execution_count": 7,
   "metadata": {},
   "outputs": [
    {
     "data": {
      "text/plain": [
       "543"
      ]
     },
     "execution_count": 7,
     "metadata": {},
     "output_type": "execute_result"
    }
   ],
   "source": [
    "len(word_greater_1000)"
   ]
  },
  {
   "cell_type": "markdown",
   "metadata": {},
   "source": [
    "Among the all keywords, **543** of them have more than a thousand samples"
   ]
  },
  {
   "cell_type": "markdown",
   "metadata": {},
   "source": [
    "List of keywords having more than 3000 thousands sampels"
   ]
  },
  {
   "cell_type": "code",
   "execution_count": 11,
   "metadata": {},
   "outputs": [],
   "source": [
    "l_3000 = sorted(list(filter(lambda x: x[1]>3000 , word_greater_1000.items())), key=lambda x: x[1], reverse=True)"
   ]
  },
  {
   "cell_type": "code",
   "execution_count": 12,
   "metadata": {},
   "outputs": [
    {
     "data": {
      "text/plain": [
       "271"
      ]
     },
     "execution_count": 12,
     "metadata": {},
     "output_type": "execute_result"
    }
   ],
   "source": [
    "len(l_3000)"
   ]
  },
  {
   "cell_type": "code",
   "execution_count": 13,
   "metadata": {},
   "outputs": [
    {
     "data": {
      "text/plain": [
       "[('that', 282105),\n",
       " ('this', 143874),\n",
       " ('they', 100035),\n",
       " ('have', 82995),\n",
       " ('what', 78687),\n",
       " ('with', 75765),\n",
       " ('about', 62715),\n",
       " ('there', 56589),\n",
       " ('people', 49227),\n",
       " ('like', 47679),\n",
       " ('from', 47142),\n",
       " ('these', 41955),\n",
       " ('just', 41598),\n",
       " ('when', 41541),\n",
       " ('because', 37944),\n",
       " ('very', 35487),\n",
       " ('more', 33708),\n",
       " ('going', 33306),\n",
       " ('their', 32418),\n",
       " ('them', 32028),\n",
       " ('were', 31938),\n",
       " ('your', 31269),\n",
       " ('would', 30966),\n",
       " ('know', 30393),\n",
       " ('think', 30234),\n",
       " ('which', 29937),\n",
       " ('really', 28629),\n",
       " ('then', 26661),\n",
       " ('some', 26466),\n",
       " ('here', 25455),\n",
       " ('time', 24825),\n",
       " ('into', 24432),\n",
       " ('world', 23964),\n",
       " ('where', 23559),\n",
       " ('will', 23469),\n",
       " ('actually', 23175),\n",
       " ('could', 22704),\n",
       " ('other', 21714),\n",
       " ('things', 21636),\n",
       " ('years', 21519),\n",
       " ('been', 21246),\n",
       " ('want', 20835),\n",
       " ('make', 20727),\n",
       " ('those', 19704),\n",
       " ('first', 18732),\n",
       " ('than', 18657),\n",
       " ('something', 18510),\n",
       " ('well', 17676),\n",
       " ('also', 17436),\n",
       " ('right', 17358),\n",
       " ('even', 16761),\n",
       " ('look', 16755),\n",
       " ('most', 16668),\n",
       " ('over', 16353),\n",
       " ('little', 16059),\n",
       " ('only', 16014),\n",
       " ('said', 15666),\n",
       " ('many', 15654),\n",
       " ('thing', 15483),\n",
       " ('much', 15444),\n",
       " ('back', 15315),\n",
       " ('take', 15030),\n",
       " ('need', 14838),\n",
       " ('three', 14745),\n",
       " ('work', 14643),\n",
       " ('every', 14112),\n",
       " ('life', 13731),\n",
       " ('kind', 13644),\n",
       " ('around', 13425),\n",
       " ('different', 12648),\n",
       " ('good', 12417),\n",
       " ('through', 12411),\n",
       " ('same', 12336),\n",
       " ('being', 12132),\n",
       " ('down', 11751),\n",
       " ('five', 11709),\n",
       " ('come', 11493),\n",
       " ('doing', 10689),\n",
       " ('after', 9996),\n",
       " ('made', 9984),\n",
       " ('year', 9930),\n",
       " ('called', 9867),\n",
       " ('human', 9762),\n",
       " ('tell', 9747),\n",
       " ('find', 9390),\n",
       " ('four', 9324),\n",
       " ('percent', 9294),\n",
       " ('change', 8886),\n",
       " ('fact', 8847),\n",
       " ('talk', 8796),\n",
       " ('today', 8796),\n",
       " ('started', 8712),\n",
       " ('great', 8688),\n",
       " ('never', 8676),\n",
       " ('should', 8649),\n",
       " ('might', 8544),\n",
       " ('last', 8442),\n",
       " ('another', 8403),\n",
       " ('point', 8283),\n",
       " ('before', 8283),\n",
       " ('give', 8202),\n",
       " ('went', 8193),\n",
       " ('able', 8127),\n",
       " ('each', 8010),\n",
       " ('still', 7983),\n",
       " ('better', 7935),\n",
       " ('thought', 7830),\n",
       " ('part', 7704),\n",
       " ('important', 7668),\n",
       " ('next', 7632),\n",
       " ('came', 7497),\n",
       " ('start', 7494),\n",
       " ('does', 7308),\n",
       " ('long', 7254),\n",
       " ('women', 7215),\n",
       " ('together', 7212),\n",
       " ('used', 7206),\n",
       " ('show', 7179),\n",
       " ('problem', 7128),\n",
       " ('course', 7041),\n",
       " ('system', 6930),\n",
       " ('between', 6834),\n",
       " ('story', 6657),\n",
       " ('found', 6651),\n",
       " ('place', 6651),\n",
       " ('again', 6579),\n",
       " ('looking', 6489),\n",
       " ('technology', 6480),\n",
       " ('data', 6432),\n",
       " ('water', 6162),\n",
       " ('love', 6159),\n",
       " ('always', 6078),\n",
       " ('question', 6063),\n",
       " ('ever', 6027),\n",
       " ('mean', 6018),\n",
       " ('example', 6012),\n",
       " ('real', 6006),\n",
       " ('call', 5997),\n",
       " ('whole', 5964),\n",
       " ('working', 5955),\n",
       " ('live', 5898),\n",
       " ('sort', 5889),\n",
       " ('feel', 5844),\n",
       " ('done', 5808),\n",
       " ('school', 5754),\n",
       " ('million', 5748),\n",
       " ('help', 5742),\n",
       " ('using', 5709),\n",
       " ('person', 5667),\n",
       " ('believe', 5610),\n",
       " ('away', 5541),\n",
       " ('number', 5517),\n",
       " ('everything', 5517),\n",
       " ('children', 5514),\n",
       " ('country', 5334),\n",
       " ('means', 5328),\n",
       " ('second', 5265),\n",
       " ('times', 5238),\n",
       " ('small', 5202),\n",
       " ('create', 5145),\n",
       " ('high', 5136),\n",
       " ('information', 5127),\n",
       " ('become', 5112),\n",
       " ('money', 5058),\n",
       " ('kids', 5058),\n",
       " ('social', 5004),\n",
       " ('making', 4956),\n",
       " ('best', 4947),\n",
       " ('space', 4935),\n",
       " ('without', 4932),\n",
       " ('power', 4926),\n",
       " ('getting', 4902),\n",
       " ('less', 4776),\n",
       " ('enough', 4773),\n",
       " ('home', 4743),\n",
       " ('left', 4728),\n",
       " ('design', 4698),\n",
       " ('city', 4503),\n",
       " ('hard', 4479),\n",
       " ('light', 4461),\n",
       " ('such', 4449),\n",
       " ('across', 4443),\n",
       " ('family', 4398),\n",
       " ('building', 4389),\n",
       " ('energy', 4335),\n",
       " ('half', 4332),\n",
       " ('having', 4326),\n",
       " ('while', 4323),\n",
       " ('future', 4296),\n",
       " ('body', 4272),\n",
       " ('science', 4230),\n",
       " ('coming', 4227),\n",
       " ('young', 4215),\n",
       " ('health', 4197),\n",
       " ('asked', 4197),\n",
       " ('food', 4182),\n",
       " ('once', 4173),\n",
       " ('makes', 4161),\n",
       " ('build', 4146),\n",
       " ('anything', 4137),\n",
       " ('countries', 4098),\n",
       " ('living', 4065),\n",
       " ('single', 4047),\n",
       " ('care', 4014),\n",
       " ('seen', 3951),\n",
       " ('later', 3918),\n",
       " ('days', 3918),\n",
       " ('often', 3915),\n",
       " ('stuff', 3909),\n",
       " ('side', 3906),\n",
       " ('play', 3906),\n",
       " ('experience', 3900),\n",
       " ('global', 3891),\n",
       " ('learn', 3885),\n",
       " ('someone', 3843),\n",
       " ('both', 3843),\n",
       " ('simple', 3840),\n",
       " ('remember', 3831),\n",
       " ('already', 3813),\n",
       " ('case', 3801),\n",
       " ('whether', 3795),\n",
       " ('move', 3792),\n",
       " ('inside', 3762),\n",
       " ('room', 3753),\n",
       " ('computer', 3747),\n",
       " ('public', 3738),\n",
       " ('open', 3732),\n",
       " ('nothing', 3729),\n",
       " ('within', 3696),\n",
       " ('else', 3654),\n",
       " ('keep', 3615),\n",
       " ('process', 3603),\n",
       " ('united', 3564),\n",
       " ('community', 3561),\n",
       " ('project', 3516),\n",
       " ('states', 3513),\n",
       " ('problems', 3483),\n",
       " ('picture', 3480),\n",
       " ('sure', 3477),\n",
       " ('hand', 3432),\n",
       " ('says', 3432),\n",
       " ('under', 3420),\n",
       " ('until', 3414),\n",
       " ('business', 3396),\n",
       " ('months', 3363),\n",
       " ('mind', 3342),\n",
       " ('africa', 3318),\n",
       " ('history', 3288),\n",
       " ('face', 3273),\n",
       " ('order', 3261),\n",
       " ('since', 3258),\n",
       " ('government', 3252),\n",
       " ('ideas', 3252),\n",
       " ('group', 3240),\n",
       " ('possible', 3225),\n",
       " ('words', 3219),\n",
       " ('child', 3216),\n",
       " ('middle', 3156),\n",
       " ('read', 3150),\n",
       " ('research', 3144),\n",
       " ('though', 3093),\n",
       " ('turn', 3090),\n",
       " ('control', 3069),\n",
       " ('taking', 3063),\n",
       " ('hope', 3060),\n",
       " ('share', 3060),\n",
       " ('book', 3060),\n",
       " ('woman', 3054),\n",
       " ('true', 3045),\n",
       " ('black', 3033),\n",
       " ('against', 3006)]"
      ]
     },
     "execution_count": 13,
     "metadata": {},
     "output_type": "execute_result"
    }
   ],
   "source": [
    "l_3000"
   ]
  },
  {
   "cell_type": "markdown",
   "metadata": {},
   "source": [
    "#### 2. Keyword length distribution"
   ]
  },
  {
   "cell_type": "code",
   "execution_count": 10,
   "metadata": {},
   "outputs": [
    {
     "name": "stderr",
     "output_type": "stream",
     "text": [
      "100%|██████████| 4169457/4169457 [16:45<00:00, 4148.67it/s]\n"
     ]
    }
   ],
   "source": [
    "word_durations = []\n",
    "\n",
    "for file in tqdm(filenames):\n",
    "    fs, sig = wav.read(file)\n",
    "    duration = float(len(sig)) / fs\n",
    "    word_durations.append(duration)"
   ]
  },
  {
   "cell_type": "code",
   "execution_count": 14,
   "metadata": {},
   "outputs": [],
   "source": [
    "word_dur_less_1 = list(filter(lambda x: x<=1.0, word_durations))\n",
    "word_dur_greater_1 = list(filter(lambda x: x>1.0, word_durations))"
   ]
  },
  {
   "cell_type": "code",
   "execution_count": 17,
   "metadata": {},
   "outputs": [
    {
     "data": {
      "image/png": "[encoded data removed]",
      "text/plain": [
       "<matplotlib.figure.Figure at 0x7fe4f85370f0>"
      ]
     },
     "metadata": {
      "needs_background": "light"
     },
     "output_type": "display_data"
    }
   ],
   "source": [
    "fig, ax = plt.subplots()\n",
    "fig.set_size_inches(11, 8)\n",
    "ax.set_title('Keywords with a duration of less than 1 second')\n",
    "ax.set_xlabel('Duration')\n",
    "ax.set_ylabel('Number of keywords')\n",
    "ax = sns.distplot(word_dur_less_1, bins= 5, kde=False)"
   ]
  },
  {
   "cell_type": "code",
   "execution_count": 18,
   "metadata": {},
   "outputs": [
    {
     "data": {
      "text/plain": [
       "3"
      ]
     },
     "execution_count": 18,
     "metadata": {},
     "output_type": "execute_result"
    }
   ],
   "source": [
    "len(word_dur_greater_1)"
   ]
  },
  {
   "cell_type": "code",
   "execution_count": 19,
   "metadata": {},
   "outputs": [
    {
     "data": {
      "text/plain": [
       "0"
      ]
     },
     "execution_count": 19,
     "metadata": {},
     "output_type": "execute_result"
    }
   ],
   "source": [
    "len(list(filter(lambda x: x<=0.6, word_durations)))"
   ]
  },
  {
   "cell_type": "code",
   "execution_count": 20,
   "metadata": {},
   "outputs": [
    {
     "data": {
      "text/plain": [
       "7.195181530832431e-05"
      ]
     },
     "execution_count": 20,
     "metadata": {},
     "output_type": "execute_result"
    }
   ],
   "source": [
    "(len(word_dur_greater_1) / len(word_durations)) * 100"
   ]
  },
  {
   "cell_type": "markdown",
   "metadata": {},
   "source": [
    "Out of the 4169457 audio samples only 115 of them (**~ 0.027%**) have a duration of more than 1 second"
   ]
  },
  {
   "cell_type": "code",
   "execution_count": 22,
   "metadata": {},
   "outputs": [
    {
     "data": {
      "text/plain": [
       "0.9999999999550301"
      ]
     },
     "execution_count": 22,
     "metadata": {},
     "output_type": "execute_result"
    }
   ],
   "source": [
    "np.mean(word_dur_less_1)"
   ]
  },
  {
   "cell_type": "markdown",
   "metadata": {},
   "source": [
    "The mean duration of an audio samples is **283.3 milliseconds**"
   ]
  },
  {
   "cell_type": "markdown",
   "metadata": {},
   "source": [
    "#### 3. Number of phonemes per keyword"
   ]
  },
  {
   "cell_type": "code",
   "execution_count": 16,
   "metadata": {},
   "outputs": [],
   "source": [
    "import nltk\n",
    "arpabet = nltk.corpus.cmudict.dict()"
   ]
  },
  {
   "cell_type": "code",
   "execution_count": 17,
   "metadata": {},
   "outputs": [
    {
     "name": "stderr",
     "output_type": "stream",
     "text": [
      "100%|██████████| 1000/1000 [00:00<00:00, 157983.50it/s]"
     ]
    },
    {
     "name": "stdout",
     "output_type": "stream",
     "text": [
      "blog\n",
      "login\n",
      "html\n",
      "pics\n",
      "homepage\n"
     ]
    },
    {
     "name": "stderr",
     "output_type": "stream",
     "text": [
      "\n"
     ]
    }
   ],
   "source": [
    "word_phonemes_len = {}\n",
    "for word in tqdm(words_1000):\n",
    "    try:\n",
    "        phonemes = arpabet[word][0]\n",
    "        word_phonemes_len[word] = len(phonemes)\n",
    "    except:\n",
    "        print(word)"
   ]
  },
  {
   "cell_type": "code",
   "execution_count": 18,
   "metadata": {},
   "outputs": [
    {
     "data": {
      "image/png": "[encoded data removed]",
      "text/plain": [
       "<matplotlib.figure.Figure at 0x7fe06f1aa2e8>"
      ]
     },
     "metadata": {
      "needs_background": "light"
     },
     "output_type": "display_data"
    }
   ],
   "source": [
    "fig, ax = plt.subplots()\n",
    "fig.set_size_inches(11, 8)\n",
    "ax.set_title('Number of phonemes per keyword')\n",
    "ax.set_xlabel('Number of phonemes')\n",
    "ax.set_ylabel('Number of keywords')\n",
    "ax = sns.distplot(list(word_phonemes_len.values()),bins=12, kde=False)"
   ]
  },
  {
   "cell_type": "code",
   "execution_count": 19,
   "metadata": {},
   "outputs": [
    {
     "data": {
      "text/plain": [
       "5.123618090452261"
      ]
     },
     "execution_count": 19,
     "metadata": {},
     "output_type": "execute_result"
    }
   ],
   "source": [
    "np.mean(list(word_phonemes_len.values()))"
   ]
  },
  {
   "cell_type": "markdown",
   "metadata": {},
   "source": [
    "On average the keywords in the database have **5 phonemes**"
   ]
  },
  {
   "cell_type": "code",
   "execution_count": 21,
   "metadata": {},
   "outputs": [
    {
     "data": {
      "text/plain": [
       "[('course', 852),\n",
       " ('started', 865),\n",
       " ('thought', 874),\n",
       " ('went', 876),\n",
       " ('tell', 879),\n",
       " ('should', 887),\n",
       " ('find', 893),\n",
       " ('sort', 901),\n",
       " ('after', 906),\n",
       " ('change', 907),\n",
       " ('today', 937),\n",
       " ('point', 938),\n",
       " ('percent', 946),\n",
       " ('fact', 955),\n",
       " ('another', 959),\n",
       " ('last', 985)]"
      ]
     },
     "execution_count": 21,
     "metadata": {},
     "output_type": "execute_result"
    }
   ],
   "source": [
    "sorted(list(filter(lambda x: x[1]>850 , word_less_1000.items())), key=lambda x: x[1])"
   ]
  },
  {
   "cell_type": "code",
   "execution_count": 25,
   "metadata": {},
   "outputs": [
    {
     "data": {
      "text/plain": [
       "['W', 'ER1', 'L', 'D']"
      ]
     },
     "execution_count": 25,
     "metadata": {},
     "output_type": "execute_result"
    }
   ],
   "source": [
    "arpabet['world'][0]"
   ]
  },
  {
   "cell_type": "code",
   "execution_count": 26,
   "metadata": {},
   "outputs": [
    {
     "data": {
      "text/plain": [
       "['P', 'IY1', 'P', 'AH0', 'L']"
      ]
     },
     "execution_count": 26,
     "metadata": {},
     "output_type": "execute_result"
    }
   ],
   "source": [
    "arpabet['people'][0]"
   ]
  },
  {
   "cell_type": "code",
   "execution_count": null,
   "metadata": {},
   "outputs": [],
   "source": []
  }
 ],
 "metadata": {
  "kernelspec": {
   "display_name": "Python 3",
   "language": "python",
   "name": "python3"
  },
  "language_info": {
   "codemirror_mode": {
    "name": "ipython",
    "version": 3
   },
   "file_extension": ".py",
   "mimetype": "text/x-python",
   "name": "python",
   "nbconvert_exporter": "python",
   "pygments_lexer": "ipython3",
   "version": "3.5.2"
  }
 },
 "nbformat": 4,
 "nbformat_minor": 2
}
